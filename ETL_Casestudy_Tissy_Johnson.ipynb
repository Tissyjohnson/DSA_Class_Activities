{
  "nbformat": 4,
  "nbformat_minor": 0,
  "metadata": {
    "colab": {
      "provenance": [],
      "authorship_tag": "ABX9TyOZhWZcUbC8ddcYSyVaQqPV",
      "include_colab_link": true
    },
    "kernelspec": {
      "name": "python3",
      "display_name": "Python 3"
    },
    "language_info": {
      "name": "python"
    }
  },
  "cells": [
    {
      "cell_type": "markdown",
      "metadata": {
        "id": "view-in-github",
        "colab_type": "text"
      },
      "source": [
        "<a href=\"https://colab.research.google.com/github/Tissyjohnson/DSA_Class_Activities/blob/main/ETL_Casestudy_Tissy_Johnson.ipynb\" target=\"_parent\"><img src=\"https://colab.research.google.com/assets/colab-badge.svg\" alt=\"Open In Colab\"/></a>"
      ]
    },
    {
      "cell_type": "code",
      "execution_count": 1,
      "metadata": {
        "id": "Lc4mHQIcRLZS"
      },
      "outputs": [],
      "source": [
        "import pandas as pd"
      ]
    },
    {
      "cell_type": "code",
      "source": [
        "url = \"https://earthquake.usgs.gov/earthquakes/feed/v1.0/summary/all_month.csv\"\n",
        "df = pd.read_csv(url)\n",
        "df.head()"
      ],
      "metadata": {
        "colab": {
          "base_uri": "https://localhost:8080/",
          "height": 394
        },
        "id": "mui9WOIwRhCD",
        "outputId": "a1a072cb-a1df-4d09-ebff-d1974ff14d4c"
      },
      "execution_count": 3,
      "outputs": [
        {
          "output_type": "execute_result",
          "data": {
            "text/plain": [
              "                       time   latitude   longitude  depth   mag magType   nst  \\\n",
              "0  2025-09-21T07:34:48.073Z -13.616900  122.376400  10.00  4.90      mb  33.0   \n",
              "1  2025-09-21T07:29:37.335Z  61.388600 -146.597800  27.20  1.40      ml   NaN   \n",
              "2  2025-09-21T07:14:56.510Z  33.339833 -116.287833  11.74  0.97      ml  56.0   \n",
              "3  2025-09-21T07:14:21.263Z  53.168000  161.211900  10.00  4.60      mb  41.0   \n",
              "4  2025-09-21T07:01:58.208Z  67.361700 -156.744900   1.40  2.50      ml   NaN   \n",
              "\n",
              "     gap     dmin   rms  ...                   updated  \\\n",
              "0   53.0  4.26100  0.72  ...  2025-09-21T07:51:54.040Z   \n",
              "1    NaN      NaN  1.04  ...  2025-09-21T07:31:55.178Z   \n",
              "2   36.0  0.02893  0.21  ...  2025-09-21T07:18:21.644Z   \n",
              "3  113.0  1.55200  0.86  ...  2025-09-21T07:35:16.040Z   \n",
              "4    NaN      NaN  0.51  ...  2025-09-21T07:06:42.656Z   \n",
              "\n",
              "                                          place        type horizontalError  \\\n",
              "0                        northwest of Australia  earthquake            7.86   \n",
              "1                   31 km NNW of Valdez, Alaska  earthquake             NaN   \n",
              "2               12 km NE of Borrego Springs, CA  earthquake            0.20   \n",
              "3  173 km E of Petropavlovsk-Kamchatsky, Russia  earthquake            6.66   \n",
              "4                      51 km N of Kobuk, Alaska  earthquake             NaN   \n",
              "\n",
              "  depthError  magError  magNst     status  locationSource magSource  \n",
              "0      1.890     0.112    25.0   reviewed              us        us  \n",
              "1      0.300       NaN     NaN  automatic              ak        ak  \n",
              "2      0.300     0.148    27.0  automatic              ci        ci  \n",
              "3      1.835     0.073    56.0   reviewed              us        us  \n",
              "4      0.600       NaN     NaN  automatic              ak        ak  \n",
              "\n",
              "[5 rows x 22 columns]"
            ],
            "text/html": [
              "\n",
              "  <div id=\"df-51493cc1-6bdf-42cc-b39f-ff8a9397fc8b\" class=\"colab-df-container\">\n",
              "    <div>\n",
              "<style scoped>\n",
              "    .dataframe tbody tr th:only-of-type {\n",
              "        vertical-align: middle;\n",
              "    }\n",
              "\n",
              "    .dataframe tbody tr th {\n",
              "        vertical-align: top;\n",
              "    }\n",
              "\n",
              "    .dataframe thead th {\n",
              "        text-align: right;\n",
              "    }\n",
              "</style>\n",
              "<table border=\"1\" class=\"dataframe\">\n",
              "  <thead>\n",
              "    <tr style=\"text-align: right;\">\n",
              "      <th></th>\n",
              "      <th>time</th>\n",
              "      <th>latitude</th>\n",
              "      <th>longitude</th>\n",
              "      <th>depth</th>\n",
              "      <th>mag</th>\n",
              "      <th>magType</th>\n",
              "      <th>nst</th>\n",
              "      <th>gap</th>\n",
              "      <th>dmin</th>\n",
              "      <th>rms</th>\n",
              "      <th>...</th>\n",
              "      <th>updated</th>\n",
              "      <th>place</th>\n",
              "      <th>type</th>\n",
              "      <th>horizontalError</th>\n",
              "      <th>depthError</th>\n",
              "      <th>magError</th>\n",
              "      <th>magNst</th>\n",
              "      <th>status</th>\n",
              "      <th>locationSource</th>\n",
              "      <th>magSource</th>\n",
              "    </tr>\n",
              "  </thead>\n",
              "  <tbody>\n",
              "    <tr>\n",
              "      <th>0</th>\n",
              "      <td>2025-09-21T07:34:48.073Z</td>\n",
              "      <td>-13.616900</td>\n",
              "      <td>122.376400</td>\n",
              "      <td>10.00</td>\n",
              "      <td>4.90</td>\n",
              "      <td>mb</td>\n",
              "      <td>33.0</td>\n",
              "      <td>53.0</td>\n",
              "      <td>4.26100</td>\n",
              "      <td>0.72</td>\n",
              "      <td>...</td>\n",
              "      <td>2025-09-21T07:51:54.040Z</td>\n",
              "      <td>northwest of Australia</td>\n",
              "      <td>earthquake</td>\n",
              "      <td>7.86</td>\n",
              "      <td>1.890</td>\n",
              "      <td>0.112</td>\n",
              "      <td>25.0</td>\n",
              "      <td>reviewed</td>\n",
              "      <td>us</td>\n",
              "      <td>us</td>\n",
              "    </tr>\n",
              "    <tr>\n",
              "      <th>1</th>\n",
              "      <td>2025-09-21T07:29:37.335Z</td>\n",
              "      <td>61.388600</td>\n",
              "      <td>-146.597800</td>\n",
              "      <td>27.20</td>\n",
              "      <td>1.40</td>\n",
              "      <td>ml</td>\n",
              "      <td>NaN</td>\n",
              "      <td>NaN</td>\n",
              "      <td>NaN</td>\n",
              "      <td>1.04</td>\n",
              "      <td>...</td>\n",
              "      <td>2025-09-21T07:31:55.178Z</td>\n",
              "      <td>31 km NNW of Valdez, Alaska</td>\n",
              "      <td>earthquake</td>\n",
              "      <td>NaN</td>\n",
              "      <td>0.300</td>\n",
              "      <td>NaN</td>\n",
              "      <td>NaN</td>\n",
              "      <td>automatic</td>\n",
              "      <td>ak</td>\n",
              "      <td>ak</td>\n",
              "    </tr>\n",
              "    <tr>\n",
              "      <th>2</th>\n",
              "      <td>2025-09-21T07:14:56.510Z</td>\n",
              "      <td>33.339833</td>\n",
              "      <td>-116.287833</td>\n",
              "      <td>11.74</td>\n",
              "      <td>0.97</td>\n",
              "      <td>ml</td>\n",
              "      <td>56.0</td>\n",
              "      <td>36.0</td>\n",
              "      <td>0.02893</td>\n",
              "      <td>0.21</td>\n",
              "      <td>...</td>\n",
              "      <td>2025-09-21T07:18:21.644Z</td>\n",
              "      <td>12 km NE of Borrego Springs, CA</td>\n",
              "      <td>earthquake</td>\n",
              "      <td>0.20</td>\n",
              "      <td>0.300</td>\n",
              "      <td>0.148</td>\n",
              "      <td>27.0</td>\n",
              "      <td>automatic</td>\n",
              "      <td>ci</td>\n",
              "      <td>ci</td>\n",
              "    </tr>\n",
              "    <tr>\n",
              "      <th>3</th>\n",
              "      <td>2025-09-21T07:14:21.263Z</td>\n",
              "      <td>53.168000</td>\n",
              "      <td>161.211900</td>\n",
              "      <td>10.00</td>\n",
              "      <td>4.60</td>\n",
              "      <td>mb</td>\n",
              "      <td>41.0</td>\n",
              "      <td>113.0</td>\n",
              "      <td>1.55200</td>\n",
              "      <td>0.86</td>\n",
              "      <td>...</td>\n",
              "      <td>2025-09-21T07:35:16.040Z</td>\n",
              "      <td>173 km E of Petropavlovsk-Kamchatsky, Russia</td>\n",
              "      <td>earthquake</td>\n",
              "      <td>6.66</td>\n",
              "      <td>1.835</td>\n",
              "      <td>0.073</td>\n",
              "      <td>56.0</td>\n",
              "      <td>reviewed</td>\n",
              "      <td>us</td>\n",
              "      <td>us</td>\n",
              "    </tr>\n",
              "    <tr>\n",
              "      <th>4</th>\n",
              "      <td>2025-09-21T07:01:58.208Z</td>\n",
              "      <td>67.361700</td>\n",
              "      <td>-156.744900</td>\n",
              "      <td>1.40</td>\n",
              "      <td>2.50</td>\n",
              "      <td>ml</td>\n",
              "      <td>NaN</td>\n",
              "      <td>NaN</td>\n",
              "      <td>NaN</td>\n",
              "      <td>0.51</td>\n",
              "      <td>...</td>\n",
              "      <td>2025-09-21T07:06:42.656Z</td>\n",
              "      <td>51 km N of Kobuk, Alaska</td>\n",
              "      <td>earthquake</td>\n",
              "      <td>NaN</td>\n",
              "      <td>0.600</td>\n",
              "      <td>NaN</td>\n",
              "      <td>NaN</td>\n",
              "      <td>automatic</td>\n",
              "      <td>ak</td>\n",
              "      <td>ak</td>\n",
              "    </tr>\n",
              "  </tbody>\n",
              "</table>\n",
              "<p>5 rows × 22 columns</p>\n",
              "</div>\n",
              "    <div class=\"colab-df-buttons\">\n",
              "\n",
              "  <div class=\"colab-df-container\">\n",
              "    <button class=\"colab-df-convert\" onclick=\"convertToInteractive('df-51493cc1-6bdf-42cc-b39f-ff8a9397fc8b')\"\n",
              "            title=\"Convert this dataframe to an interactive table.\"\n",
              "            style=\"display:none;\">\n",
              "\n",
              "  <svg xmlns=\"http://www.w3.org/2000/svg\" height=\"24px\" viewBox=\"0 -960 960 960\">\n",
              "    <path d=\"M120-120v-720h720v720H120Zm60-500h600v-160H180v160Zm220 220h160v-160H400v160Zm0 220h160v-160H400v160ZM180-400h160v-160H180v160Zm440 0h160v-160H620v160ZM180-180h160v-160H180v160Zm440 0h160v-160H620v160Z\"/>\n",
              "  </svg>\n",
              "    </button>\n",
              "\n",
              "  <style>\n",
              "    .colab-df-container {\n",
              "      display:flex;\n",
              "      gap: 12px;\n",
              "    }\n",
              "\n",
              "    .colab-df-convert {\n",
              "      background-color: #E8F0FE;\n",
              "      border: none;\n",
              "      border-radius: 50%;\n",
              "      cursor: pointer;\n",
              "      display: none;\n",
              "      fill: #1967D2;\n",
              "      height: 32px;\n",
              "      padding: 0 0 0 0;\n",
              "      width: 32px;\n",
              "    }\n",
              "\n",
              "    .colab-df-convert:hover {\n",
              "      background-color: #E2EBFA;\n",
              "      box-shadow: 0px 1px 2px rgba(60, 64, 67, 0.3), 0px 1px 3px 1px rgba(60, 64, 67, 0.15);\n",
              "      fill: #174EA6;\n",
              "    }\n",
              "\n",
              "    .colab-df-buttons div {\n",
              "      margin-bottom: 4px;\n",
              "    }\n",
              "\n",
              "    [theme=dark] .colab-df-convert {\n",
              "      background-color: #3B4455;\n",
              "      fill: #D2E3FC;\n",
              "    }\n",
              "\n",
              "    [theme=dark] .colab-df-convert:hover {\n",
              "      background-color: #434B5C;\n",
              "      box-shadow: 0px 1px 3px 1px rgba(0, 0, 0, 0.15);\n",
              "      filter: drop-shadow(0px 1px 2px rgba(0, 0, 0, 0.3));\n",
              "      fill: #FFFFFF;\n",
              "    }\n",
              "  </style>\n",
              "\n",
              "    <script>\n",
              "      const buttonEl =\n",
              "        document.querySelector('#df-51493cc1-6bdf-42cc-b39f-ff8a9397fc8b button.colab-df-convert');\n",
              "      buttonEl.style.display =\n",
              "        google.colab.kernel.accessAllowed ? 'block' : 'none';\n",
              "\n",
              "      async function convertToInteractive(key) {\n",
              "        const element = document.querySelector('#df-51493cc1-6bdf-42cc-b39f-ff8a9397fc8b');\n",
              "        const dataTable =\n",
              "          await google.colab.kernel.invokeFunction('convertToInteractive',\n",
              "                                                    [key], {});\n",
              "        if (!dataTable) return;\n",
              "\n",
              "        const docLinkHtml = 'Like what you see? Visit the ' +\n",
              "          '<a target=\"_blank\" href=https://colab.research.google.com/notebooks/data_table.ipynb>data table notebook</a>'\n",
              "          + ' to learn more about interactive tables.';\n",
              "        element.innerHTML = '';\n",
              "        dataTable['output_type'] = 'display_data';\n",
              "        await google.colab.output.renderOutput(dataTable, element);\n",
              "        const docLink = document.createElement('div');\n",
              "        docLink.innerHTML = docLinkHtml;\n",
              "        element.appendChild(docLink);\n",
              "      }\n",
              "    </script>\n",
              "  </div>\n",
              "\n",
              "\n",
              "    <div id=\"df-db0786e9-439f-48d3-997f-3f8861225b88\">\n",
              "      <button class=\"colab-df-quickchart\" onclick=\"quickchart('df-db0786e9-439f-48d3-997f-3f8861225b88')\"\n",
              "                title=\"Suggest charts\"\n",
              "                style=\"display:none;\">\n",
              "\n",
              "<svg xmlns=\"http://www.w3.org/2000/svg\" height=\"24px\"viewBox=\"0 0 24 24\"\n",
              "     width=\"24px\">\n",
              "    <g>\n",
              "        <path d=\"M19 3H5c-1.1 0-2 .9-2 2v14c0 1.1.9 2 2 2h14c1.1 0 2-.9 2-2V5c0-1.1-.9-2-2-2zM9 17H7v-7h2v7zm4 0h-2V7h2v10zm4 0h-2v-4h2v4z\"/>\n",
              "    </g>\n",
              "</svg>\n",
              "      </button>\n",
              "\n",
              "<style>\n",
              "  .colab-df-quickchart {\n",
              "      --bg-color: #E8F0FE;\n",
              "      --fill-color: #1967D2;\n",
              "      --hover-bg-color: #E2EBFA;\n",
              "      --hover-fill-color: #174EA6;\n",
              "      --disabled-fill-color: #AAA;\n",
              "      --disabled-bg-color: #DDD;\n",
              "  }\n",
              "\n",
              "  [theme=dark] .colab-df-quickchart {\n",
              "      --bg-color: #3B4455;\n",
              "      --fill-color: #D2E3FC;\n",
              "      --hover-bg-color: #434B5C;\n",
              "      --hover-fill-color: #FFFFFF;\n",
              "      --disabled-bg-color: #3B4455;\n",
              "      --disabled-fill-color: #666;\n",
              "  }\n",
              "\n",
              "  .colab-df-quickchart {\n",
              "    background-color: var(--bg-color);\n",
              "    border: none;\n",
              "    border-radius: 50%;\n",
              "    cursor: pointer;\n",
              "    display: none;\n",
              "    fill: var(--fill-color);\n",
              "    height: 32px;\n",
              "    padding: 0;\n",
              "    width: 32px;\n",
              "  }\n",
              "\n",
              "  .colab-df-quickchart:hover {\n",
              "    background-color: var(--hover-bg-color);\n",
              "    box-shadow: 0 1px 2px rgba(60, 64, 67, 0.3), 0 1px 3px 1px rgba(60, 64, 67, 0.15);\n",
              "    fill: var(--button-hover-fill-color);\n",
              "  }\n",
              "\n",
              "  .colab-df-quickchart-complete:disabled,\n",
              "  .colab-df-quickchart-complete:disabled:hover {\n",
              "    background-color: var(--disabled-bg-color);\n",
              "    fill: var(--disabled-fill-color);\n",
              "    box-shadow: none;\n",
              "  }\n",
              "\n",
              "  .colab-df-spinner {\n",
              "    border: 2px solid var(--fill-color);\n",
              "    border-color: transparent;\n",
              "    border-bottom-color: var(--fill-color);\n",
              "    animation:\n",
              "      spin 1s steps(1) infinite;\n",
              "  }\n",
              "\n",
              "  @keyframes spin {\n",
              "    0% {\n",
              "      border-color: transparent;\n",
              "      border-bottom-color: var(--fill-color);\n",
              "      border-left-color: var(--fill-color);\n",
              "    }\n",
              "    20% {\n",
              "      border-color: transparent;\n",
              "      border-left-color: var(--fill-color);\n",
              "      border-top-color: var(--fill-color);\n",
              "    }\n",
              "    30% {\n",
              "      border-color: transparent;\n",
              "      border-left-color: var(--fill-color);\n",
              "      border-top-color: var(--fill-color);\n",
              "      border-right-color: var(--fill-color);\n",
              "    }\n",
              "    40% {\n",
              "      border-color: transparent;\n",
              "      border-right-color: var(--fill-color);\n",
              "      border-top-color: var(--fill-color);\n",
              "    }\n",
              "    60% {\n",
              "      border-color: transparent;\n",
              "      border-right-color: var(--fill-color);\n",
              "    }\n",
              "    80% {\n",
              "      border-color: transparent;\n",
              "      border-right-color: var(--fill-color);\n",
              "      border-bottom-color: var(--fill-color);\n",
              "    }\n",
              "    90% {\n",
              "      border-color: transparent;\n",
              "      border-bottom-color: var(--fill-color);\n",
              "    }\n",
              "  }\n",
              "</style>\n",
              "\n",
              "      <script>\n",
              "        async function quickchart(key) {\n",
              "          const quickchartButtonEl =\n",
              "            document.querySelector('#' + key + ' button');\n",
              "          quickchartButtonEl.disabled = true;  // To prevent multiple clicks.\n",
              "          quickchartButtonEl.classList.add('colab-df-spinner');\n",
              "          try {\n",
              "            const charts = await google.colab.kernel.invokeFunction(\n",
              "                'suggestCharts', [key], {});\n",
              "          } catch (error) {\n",
              "            console.error('Error during call to suggestCharts:', error);\n",
              "          }\n",
              "          quickchartButtonEl.classList.remove('colab-df-spinner');\n",
              "          quickchartButtonEl.classList.add('colab-df-quickchart-complete');\n",
              "        }\n",
              "        (() => {\n",
              "          let quickchartButtonEl =\n",
              "            document.querySelector('#df-db0786e9-439f-48d3-997f-3f8861225b88 button');\n",
              "          quickchartButtonEl.style.display =\n",
              "            google.colab.kernel.accessAllowed ? 'block' : 'none';\n",
              "        })();\n",
              "      </script>\n",
              "    </div>\n",
              "\n",
              "    </div>\n",
              "  </div>\n"
            ],
            "application/vnd.google.colaboratory.intrinsic+json": {
              "type": "dataframe",
              "variable_name": "df"
            }
          },
          "metadata": {},
          "execution_count": 3
        }
      ]
    },
    {
      "cell_type": "code",
      "source": [
        "num_records = len(df)\n",
        "unique_places = df['place'].nunique()\n",
        "\n",
        "print(\"Total Records:\", num_records)\n",
        "print(\"Unique Locations:\", unique_places)\n"
      ],
      "metadata": {
        "colab": {
          "base_uri": "https://localhost:8080/"
        },
        "id": "UM2FZx6NRiZf",
        "outputId": "cd1d2566-7a0b-4444-e4a3-9e762c6e4e1f"
      },
      "execution_count": 4,
      "outputs": [
        {
          "output_type": "stream",
          "name": "stdout",
          "text": [
            "Total Records: 9929\n",
            "Unique Locations: 5263\n"
          ]
        }
      ]
    },
    {
      "cell_type": "code",
      "source": [
        "print(df.head())\n",
        "\n"
      ],
      "metadata": {
        "colab": {
          "base_uri": "https://localhost:8080/"
        },
        "id": "1pv0h2osRwz9",
        "outputId": "8eecc14e-98ec-4ec6-80ec-a2f1f8945160"
      },
      "execution_count": 6,
      "outputs": [
        {
          "output_type": "stream",
          "name": "stdout",
          "text": [
            "                       time   latitude   longitude  depth   mag magType   nst  \\\n",
            "0  2025-09-21T07:34:48.073Z -13.616900  122.376400  10.00  4.90      mb  33.0   \n",
            "1  2025-09-21T07:29:37.335Z  61.388600 -146.597800  27.20  1.40      ml   NaN   \n",
            "2  2025-09-21T07:14:56.510Z  33.339833 -116.287833  11.74  0.97      ml  56.0   \n",
            "3  2025-09-21T07:14:21.263Z  53.168000  161.211900  10.00  4.60      mb  41.0   \n",
            "4  2025-09-21T07:01:58.208Z  67.361700 -156.744900   1.40  2.50      ml   NaN   \n",
            "\n",
            "     gap     dmin   rms  ...                   updated  \\\n",
            "0   53.0  4.26100  0.72  ...  2025-09-21T07:51:54.040Z   \n",
            "1    NaN      NaN  1.04  ...  2025-09-21T07:31:55.178Z   \n",
            "2   36.0  0.02893  0.21  ...  2025-09-21T07:18:21.644Z   \n",
            "3  113.0  1.55200  0.86  ...  2025-09-21T07:35:16.040Z   \n",
            "4    NaN      NaN  0.51  ...  2025-09-21T07:06:42.656Z   \n",
            "\n",
            "                                          place        type horizontalError  \\\n",
            "0                        northwest of Australia  earthquake            7.86   \n",
            "1                   31 km NNW of Valdez, Alaska  earthquake             NaN   \n",
            "2               12 km NE of Borrego Springs, CA  earthquake            0.20   \n",
            "3  173 km E of Petropavlovsk-Kamchatsky, Russia  earthquake            6.66   \n",
            "4                      51 km N of Kobuk, Alaska  earthquake             NaN   \n",
            "\n",
            "  depthError  magError  magNst     status  locationSource magSource  \n",
            "0      1.890     0.112    25.0   reviewed              us        us  \n",
            "1      0.300       NaN     NaN  automatic              ak        ak  \n",
            "2      0.300     0.148    27.0  automatic              ci        ci  \n",
            "3      1.835     0.073    56.0   reviewed              us        us  \n",
            "4      0.600       NaN     NaN  automatic              ak        ak  \n",
            "\n",
            "[5 rows x 22 columns]\n"
          ]
        }
      ]
    },
    {
      "cell_type": "code",
      "source": [
        "df['time'] = pd.to_datetime(df['time'])\n"
      ],
      "metadata": {
        "id": "JmIBgzkNR-Tq"
      },
      "execution_count": 7,
      "outputs": []
    },
    {
      "cell_type": "code",
      "source": [
        "print(df.dtypes)"
      ],
      "metadata": {
        "colab": {
          "base_uri": "https://localhost:8080/"
        },
        "id": "QqInUj6aSGrv",
        "outputId": "80ad9c50-64da-4092-b45d-4a96d4e822bf"
      },
      "execution_count": 9,
      "outputs": [
        {
          "output_type": "stream",
          "name": "stdout",
          "text": [
            "time               datetime64[ns, UTC]\n",
            "latitude                       float64\n",
            "longitude                      float64\n",
            "depth                          float64\n",
            "mag                            float64\n",
            "magType                         object\n",
            "nst                            float64\n",
            "gap                            float64\n",
            "dmin                           float64\n",
            "rms                            float64\n",
            "net                             object\n",
            "id                              object\n",
            "updated                         object\n",
            "place                           object\n",
            "type                            object\n",
            "horizontalError                float64\n",
            "depthError                     float64\n",
            "magError                       float64\n",
            "magNst                         float64\n",
            "status                          object\n",
            "locationSource                  object\n",
            "magSource                       object\n",
            "dtype: object\n"
          ]
        }
      ]
    },
    {
      "cell_type": "code",
      "source": [
        "df = df.dropna(subset=['latitude', 'longitude', 'mag'])"
      ],
      "metadata": {
        "id": "UVIiupIwSUn0"
      },
      "execution_count": 11,
      "outputs": []
    },
    {
      "cell_type": "code",
      "source": [
        "df = df[df['mag'] >= 4.0]"
      ],
      "metadata": {
        "id": "Uf2XGut0TtyI"
      },
      "execution_count": 12,
      "outputs": []
    },
    {
      "cell_type": "code",
      "source": [
        "df['day_of_week'] = df['time'].dt.day_name()"
      ],
      "metadata": {
        "id": "2mhi8fCoT7Yf"
      },
      "execution_count": 13,
      "outputs": []
    },
    {
      "cell_type": "code",
      "source": [
        "def get_severity(mag):\n",
        "    if mag < 4.0:\n",
        "        return \"Low\"\n",
        "    elif mag < 6.0:\n",
        "        return \"Moderate\"\n",
        "    else:\n",
        "        return \"High\"\n",
        "\n",
        "df['severity_level'] = df['mag'].apply(get_severity)\n"
      ],
      "metadata": {
        "id": "-f20Y3H_T--f"
      },
      "execution_count": 16,
      "outputs": []
    },
    {
      "cell_type": "code",
      "source": [
        "earthquakes_per_place = df['place'].value_counts().reset_index()\n",
        "earthquakes_per_place.columns = ['place', 'earthquake_count']\n"
      ],
      "metadata": {
        "id": "PE36BObGUGap"
      },
      "execution_count": 20,
      "outputs": []
    },
    {
      "cell_type": "code",
      "source": [
        "summary = df.groupby(df['time'].dt.date).agg(\n",
        "    avg_magnitude=('mag', 'mean'),\n",
        "    max_depth=('depth', 'max')\n",
        ").reset_index()\n"
      ],
      "metadata": {
        "id": "4bOwzn8TUjpP"
      },
      "execution_count": 21,
      "outputs": []
    },
    {
      "cell_type": "code",
      "source": [
        "df.to_csv(\"cleaned_earthquakes.csv\", index=False)\n",
        "summary.to_csv(\"earthquake_summary.csv\", index=False)\n"
      ],
      "metadata": {
        "id": "9MGzXHclVNco"
      },
      "execution_count": 22,
      "outputs": []
    },
    {
      "cell_type": "code",
      "source": [
        "import sqlite3\n",
        "\n",
        "conn = sqlite3.connect(\"earthquakes.db\")\n",
        "df.to_sql(\"earthquakes\", conn, if_exists=\"replace\", index=False)\n",
        "summary.to_sql(\"earthquake_summary\", conn, if_exists=\"replace\", index=False)\n",
        "conn.close()\n"
      ],
      "metadata": {
        "id": "yzLKRKpeVXVr"
      },
      "execution_count": 23,
      "outputs": []
    },
    {
      "cell_type": "markdown",
      "source": [
        "**13. Flowchart of ETL Logic**\n",
        "\n",
        "Flow:\n",
        "Extract CSV → Load DataFrame → Clean Data (drop NA, filter magnitude) → Transform (datetime, severity, day_of_week) → Aggregate (per place & per day) → Save (CSV + SQLite)"
      ],
      "metadata": {
        "id": "KFUnLg-jbTdp"
      }
    },
    {
      "cell_type": "markdown",
      "source": [
        "14: Short explanation of the process\n",
        "\n",
        "We performed an ETL process on USGS earthquake data: loaded the CSV, cleaned missing values, filtered for significant earthquakes (mag ≥ 4), added derived columns (day_of_week and severity_level), aggregated daily statistics, and saved both cleaned and summary datasets. We also stored the data in SQLite for further queries."
      ],
      "metadata": {
        "id": "5GYSYeMHWERM"
      }
    },
    {
      "cell_type": "markdown",
      "source": [
        "15: One insight from the data\n",
        "\n",
        "Most significant earthquakes (magnitude ≥ 4) in the past month occurred in specific regions like Alaska and Indonesia, with the majority being of Moderate severity. This shows regional concentration of seismic activity."
      ],
      "metadata": {
        "id": "QFlPVl-MWH6t"
      }
    }
  ]
}