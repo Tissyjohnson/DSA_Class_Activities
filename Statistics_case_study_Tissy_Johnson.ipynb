{
  "nbformat": 4,
  "nbformat_minor": 0,
  "metadata": {
    "colab": {
      "provenance": [],
      "authorship_tag": "ABX9TyNrzTUZQNCHkNMlKpewRyuw",
      "include_colab_link": true
    },
    "kernelspec": {
      "name": "python3",
      "display_name": "Python 3"
    },
    "language_info": {
      "name": "python"
    }
  },
  "cells": [
    {
      "cell_type": "markdown",
      "metadata": {
        "id": "view-in-github",
        "colab_type": "text"
      },
      "source": [
        "<a href=\"https://colab.research.google.com/github/Tissyjohnson/DSA_Class_Activities/blob/main/Statistics_case_study_Tissy_Johnson.ipynb\" target=\"_parent\"><img src=\"https://colab.research.google.com/assets/colab-badge.svg\" alt=\"Open In Colab\"/></a>"
      ]
    },
    {
      "cell_type": "code",
      "execution_count": 1,
      "metadata": {
        "colab": {
          "base_uri": "https://localhost:8080/"
        },
        "id": "NMVarocN0AhH",
        "outputId": "c58827e6-240f-4b20-c4e9-01b7a1f6157c"
      },
      "outputs": [
        {
          "output_type": "stream",
          "name": "stdout",
          "text": [
            "Mean Temperature: 15.916666666666666\n",
            "Median Temperature: 15.5\n",
            "Mode Temperature: 15\n",
            "Range: 12\n",
            "Variance: 11.076388888888888\n"
          ]
        }
      ],
      "source": [
        "# 1. Dataset: Monthly temperatures in a city (in °C)\n",
        "temps = [12, 15, 14, 16, 18, 20, 22, 19, 17, 15, 13, 10]\n",
        "mean_temp = sum(temps) / len(temps) #mean\n",
        "\n",
        "sorted_temps = sorted(temps)   #median\n",
        "n = len(sorted_temps)\n",
        "if n % 2 == 0:\n",
        "    median_temp = (sorted_temps[n//2 - 1] + sorted_temps[n//2]) / 2\n",
        "else:\n",
        "    median_temp = sorted_temps[n//2]\n",
        "\n",
        "freq = {}    #mode\n",
        "for t in temps:\n",
        "    if t in freq:\n",
        "        freq[t] += 1\n",
        "    else:\n",
        "        freq[t] = 1\n",
        "mode_temp = max(freq, key=freq.get)\n",
        "range_temp = max(temps) - min(temps)   # Range and Variance\n",
        "squared_diffs = 0   # variance = average of squared differences from mean\n",
        "for t in temps:\n",
        "    squared_diffs += (t - mean_temp) ** 2\n",
        "variance_temp = squared_diffs / len(temps)\n",
        "\n",
        "print(\"Mean Temperature:\", mean_temp)\n",
        "print(\"Median Temperature:\", median_temp)\n",
        "print(\"Mode Temperature:\", mode_temp)\n",
        "print(\"Range:\", range_temp)\n",
        "print(\"Variance:\", variance_temp)\n",
        ""
      ]
    },
    {
      "cell_type": "code",
      "source": [
        "# 2 Dataset: Heights of students (in cm)\n",
        "heights = [150, 160, 165, 170, 155, 160, 162, 168]\n",
        "range_height = max(heights) - min(heights)\n",
        "\n",
        "mean_height = sum(heights) / len(heights)\n",
        "squared_diffs = 0\n",
        "\n",
        "for h in heights:\n",
        "    squared_diffs += (h - mean_height) ** 2\n",
        "variance_height = squared_diffs / len(heights)\n",
        "def sqrt(x):\n",
        "    guess = x / 2\n",
        "    for _ in range(20):\n",
        "        guess = (guess + x/guess) / 2\n",
        "    return guess\n",
        "\n",
        "std_dev_height = sqrt(variance_height)\n",
        "print(\"Range:\", range_height)\n",
        "print(\"Variance:\", variance_height)\n",
        "print(\"Standard Deviation:\", std_dev_height)\n"
      ],
      "metadata": {
        "colab": {
          "base_uri": "https://localhost:8080/"
        },
        "id": "YMuEjNFs3ZQm",
        "outputId": "8e50ba77-c7c9-47e1-b83b-931b1db80b6d"
      },
      "execution_count": 1,
      "outputs": [
        {
          "output_type": "stream",
          "name": "stdout",
          "text": [
            "Range: 20\n",
            "Variance: 38.1875\n",
            "Standard Deviation: 6.179603547154137\n"
          ]
        }
      ]
    },
    {
      "cell_type": "code",
      "source": [
        "# 3.Dataset: Weekly expenses (in $)\n",
        "expenses = [200, 250, 300, 220, 270, 290, 310]\n",
        "mean_exp = sum(expenses) / len(expenses)\n",
        "squared_diffs = 0\n",
        "\n",
        "for e in expenses:\n",
        "    squared_diffs += (e - mean_exp) ** 2\n",
        "variance_exp = squared_diffs / len(expenses)\n",
        "def sqrt(x):\n",
        "    guess = x / 2\n",
        "    for _ in range(20):\n",
        "        guess = (guess + x/guess) / 2\n",
        "    return guess\n",
        "\n",
        "std_dev_exp = sqrt(variance_exp)\n",
        "print (\"standard deviation\",std_dev_exp)"
      ],
      "metadata": {
        "colab": {
          "base_uri": "https://localhost:8080/"
        },
        "id": "yuo18B67LY-s",
        "outputId": "3bfee1bf-130d-47e3-febd-1634a5311b01"
      },
      "execution_count": 3,
      "outputs": [
        {
          "output_type": "stream",
          "name": "stdout",
          "text": [
            "standard deviation 38.438925848782034\n"
          ]
        }
      ]
    },
    {
      "cell_type": "code",
      "source": [
        "# 4.Dataset: Advertising Spending (in $1000s)\n",
        "import statistics as stats\n",
        "\n",
        "X = [10, 20, 15, 25, 30]   # Advertising Spending\n",
        "Y = [100, 150, 120, 180, 200]  # Sales\n",
        "\n",
        "n = len(X)\n",
        "\n",
        "mean_x = stats.mean(X)\n",
        "mean_y = stats.mean(Y)\n",
        "\n",
        "cov_xy = sum((X[i] - mean_x) * (Y[i] - mean_y) for i in range(n)) / (n - 1)\n",
        "\n",
        "std_x = stats.stdev(X)\n",
        "std_y = stats.stdev(Y)\n",
        "corr_xy = cov_xy / (std_x * std_y)\n",
        "\n",
        "print(\"Covariance:\", cov_xy)\n",
        "print(\"Correlation\",corr_xy)"
      ],
      "metadata": {
        "colab": {
          "base_uri": "https://localhost:8080/"
        },
        "id": "mGI4YNGkMZhS",
        "outputId": "8fbce0a5-0185-43e1-c1ff-eb049c3713be"
      },
      "execution_count": 4,
      "outputs": [
        {
          "output_type": "stream",
          "name": "stdout",
          "text": [
            "Covariance: 325.0\n",
            "Correlation 0.9970544855015816\n"
          ]
        }
      ]
    },
    {
      "cell_type": "code",
      "source": [
        "# 5. Dataset: Study Hours: 2, 4, 6, 8, 10; Exam Scores: 55, 60, 65, 70, 75\n",
        "import statistics as stats\n",
        "\n",
        "study_hr = [2, 4, 6, 8, 10]\n",
        "exam_scr = [55, 60, 65, 70, 75]\n",
        "\n",
        "mean_hr = stats.mean(study_hr)\n",
        "mean_scr = stats.mean(exam_scr)\n",
        "\n",
        "\n",
        "cov_xy = sum((study_hr[i] - mean_hr) * (exam_scr[i] - mean_scr) for i in range(len(study_hr))) / (len(study_hr) - 1)\n",
        "\n",
        "std_x = stats.stdev(study_hr)\n",
        "std_y = stats.stdev(exam_scr)\n",
        "\n",
        "corr_xy = cov_xy / (std_x * std_y)\n",
        "\n",
        "Q1 = stats.quantiles(exam_scr, n=4, method='inclusive')[0]\n",
        "Q3 = stats.quantiles(exam_scr, n=4, method='inclusive')[2]\n",
        "IQR = Q3 - Q1\n",
        "\n",
        "print(\"Correlation Coefficient:\", corr_xy)\n",
        "print(\"Q1:\", Q1)\n",
        "print(\"Q3:\", Q3)\n",
        "print(\"Interquartile range:\",IQR)"
      ],
      "metadata": {
        "colab": {
          "base_uri": "https://localhost:8080/"
        },
        "id": "HNzDj7KiOuI2",
        "outputId": "a76184a1-ddfd-46eb-fe59-09db3697d7a7"
      },
      "execution_count": 5,
      "outputs": [
        {
          "output_type": "stream",
          "name": "stdout",
          "text": [
            "Correlation Coefficient: 1.0\n",
            "Q1: 60.0\n",
            "Q3: 70.0\n",
            "Interquartile range: 10.0\n"
          ]
        }
      ]
    },
    {
      "cell_type": "code",
      "source": [
        "# 6 Dataset: Monthly savings (in $)\n",
        "import statistics as stats\n",
        "\n",
        "data = [200, 300, 400, 500, 600, 700, 800, 900, 1000, 1100]\n",
        "\n",
        "Q1 = stats.quantiles(data, n=4, method='inclusive')[0]\n",
        "Q3 = stats.quantiles(data, n=4, method='inclusive')[2]\n",
        "\n",
        "IQR = Q3 - Q1\n",
        "\n",
        "lower_bound = Q1 - 1.5 * IQR\n",
        "upper_bound = Q3 + 1.5 * IQR\n",
        "\n",
        "outliers = [x for x in data if x < lower_bound or x > upper_bound]\n",
        "\n",
        "print(\"Q1 (First Quartile):\", Q1)\n",
        "print(\"Q3 (Third Quartile):\", Q3)\n",
        "print(\"Interquartile Range (IQR):\", IQR)\n",
        "print(\"Lower Bound:\", lower_bound)\n",
        "print(\"Upper Bound:\", upper_bound)\n",
        "print(\"Outliers\",outliers)"
      ],
      "metadata": {
        "colab": {
          "base_uri": "https://localhost:8080/"
        },
        "id": "RrGPljjVPt6p",
        "outputId": "6c8be2ee-5f00-4240-88dc-bcbbf9a7d8be"
      },
      "execution_count": 7,
      "outputs": [
        {
          "output_type": "stream",
          "name": "stdout",
          "text": [
            "Q1 (First Quartile): 425.0\n",
            "Q3 (Third Quartile): 875.0\n",
            "Interquartile Range (IQR): 450.0\n",
            "Lower Bound: -250.0\n",
            "Upper Bound: 1550.0\n",
            "Outliers []\n"
          ]
        }
      ]
    },
    {
      "cell_type": "code",
      "source": [
        "# 7. Dataset: Ages of employees\n",
        "import statistics as stats\n",
        "age = [22, 25, 28, 30, 35, 40, 45, 50, 55, 100]\n",
        "\n",
        "Q1 = stats.quantiles(age, n=4, method='inclusive')[0]\n",
        "Q3 = stats.quantiles(age, n=4, method='inclusive')[2]\n",
        "\n",
        "IQR = Q3 - Q1\n",
        "lower_bound = Q1 - 1.5 * IQR\n",
        "upper_bound = Q3 + 1.5 * IQR\n",
        "\n",
        "outliers = [x for x in age if x < lower_bound or x > upper_bound]\n",
        "\n",
        "print(\"Outliers\",outliers)"
      ],
      "metadata": {
        "colab": {
          "base_uri": "https://localhost:8080/"
        },
        "id": "MEKhLHGNPz4p",
        "outputId": "7cb0d1cf-4140-40be-bbb7-658e8f8c85ee"
      },
      "execution_count": 8,
      "outputs": [
        {
          "output_type": "stream",
          "name": "stdout",
          "text": [
            "Outliers [100]\n"
          ]
        }
      ]
    },
    {
      "cell_type": "code",
      "source": [
        "# 8. Dataset: Sample weights (in kg) of a new diet program\n",
        "\n",
        "import math\n",
        "weights = [70, 68, 72, 71, 69, 73, 72, 74, 70, 71]\n",
        "mu = 70  # hypothesized mean\n",
        "n = len(weights)\n",
        "mean = sum(weights) / n\n",
        "variance = sum((x - mean) ** 2 for x in weights) / n\n",
        "std_dev = math.sqrt(variance)\n",
        "z_stat = (mean - mu) / (std_dev / math.sqrt(n))\n",
        "z_scores = [(x - mean) / std_dev for x in weights]\n",
        "print(\"Sample Mean:\", mean)\n",
        "print(\"Standard Deviation:\", std_dev)\n",
        "print(\"Z-test Statistic:\", z_stat)\n",
        "print(\"Z-scores:\", z_scores)\n",
        "\n",
        "#  Decision at 5% significance (two-tailed -> ±1.96)\n",
        "if abs(z_stat) > 1.96:\n",
        "    print(\"Reject H0: Mean is significantly different from 70\")\n",
        "else:\n",
        "    print(\"Fail to reject H0: No significant difference from 70\")\n",
        "\n"
      ],
      "metadata": {
        "colab": {
          "base_uri": "https://localhost:8080/"
        },
        "id": "5u95UwzIQbsj",
        "outputId": "52212d69-3591-4acc-8994-3c7dc9ff3d8c"
      },
      "execution_count": 10,
      "outputs": [
        {
          "output_type": "stream",
          "name": "stdout",
          "text": [
            "Sample Mean: 71.0\n",
            "Standard Deviation: 1.7320508075688772\n",
            "Z-test Statistic: 1.8257418583505538\n",
            "Z-scores: [-0.5773502691896258, -1.7320508075688774, 0.5773502691896258, 0.0, -1.1547005383792517, 1.1547005383792517, 0.5773502691896258, 1.7320508075688774, -0.5773502691896258, 0.0]\n",
            "Fail to reject H0: No significant difference from 70\n"
          ]
        }
      ]
    },
    {
      "cell_type": "code",
      "source": [
        "# 9. Dataset: Annual salaries of employees (in $1000s)\n",
        "\n",
        "import math\n",
        "salaries = [40, 42, 45, 47, 50, 52, 55, 57, 60, 62]\n",
        "n = len(salaries)\n",
        "\n",
        "mean = sum(salaries) / n\n",
        "variance = sum((x - mean) ** 2 for x in salaries) / n\n",
        "std_dev = math.sqrt(variance)\n",
        "\n",
        "#  Z-scores\n",
        "z_scores = [(x - mean) / std_dev for x in salaries]\n",
        "def normal_cdf(z):\n",
        "    return 0.5 * (1 + math.erf(z / math.sqrt(2)))\n",
        "probabilities = [normal_cdf(z) for z in z_scores]\n",
        "print(\"Mean Salary:\", mean)\n",
        "print(\"Standard Deviation:\", std_dev)\n",
        "print(\"Z-scores:\", z_scores)\n",
        "print(\"Probabilities (Normal CDF):\", probabilities)\n",
        "for i, z in enumerate(z_scores):\n",
        "    if z < -2:\n",
        "        interp = \"Very low (below average)\"\n",
        "    elif z < -1:\n",
        "        interp = \"Below average\"\n",
        "    elif z < 1:\n",
        "        interp = \"Around average\"\n",
        "    elif z < 2:\n",
        "        interp = \"Above average\"\n",
        "    else:\n",
        "        interp = \"Very high (far above average)\"\n",
        "    print(f\"Salary {salaries[i]}k -> Z = {round(z,2)} -> {interp}\")\n"
      ],
      "metadata": {
        "colab": {
          "base_uri": "https://localhost:8080/"
        },
        "id": "Ke8XTmydT1TJ",
        "outputId": "3ee0a42e-2f4c-48a8-b30a-d6239b371f19"
      },
      "execution_count": 11,
      "outputs": [
        {
          "output_type": "stream",
          "name": "stdout",
          "text": [
            "Mean Salary: 51.0\n",
            "Standard Deviation: 7.14142842854285\n",
            "Z-scores: [-1.5403080924308108, -1.2602520756252087, -0.8401680504168059, -0.5601120336112039, -0.14002800840280097, 0.14002800840280097, 0.5601120336112039, 0.8401680504168059, 1.2602520756252087, 1.5403080924308108]\n",
            "Probabilities (Normal CDF): [0.06174263607227448, 0.10378922116781208, 0.20040708469146723, 0.2877015114563768, 0.4443189304475039, 0.5556810695524961, 0.7122984885436232, 0.7995929153085328, 0.8962107788321879, 0.9382573639277255]\n",
            "Salary 40k -> Z = -1.54 -> Below average\n",
            "Salary 42k -> Z = -1.26 -> Below average\n",
            "Salary 45k -> Z = -0.84 -> Around average\n",
            "Salary 47k -> Z = -0.56 -> Around average\n",
            "Salary 50k -> Z = -0.14 -> Around average\n",
            "Salary 52k -> Z = 0.14 -> Around average\n",
            "Salary 55k -> Z = 0.56 -> Around average\n",
            "Salary 57k -> Z = 0.84 -> Around average\n",
            "Salary 60k -> Z = 1.26 -> Above average\n",
            "Salary 62k -> Z = 1.54 -> Above average\n"
          ]
        }
      ]
    },
    {
      "cell_type": "code",
      "source": [
        "# 10. Dataset: Monthly income of individuals (in $1000s)\n",
        "\n",
        "import math\n",
        "import matplotlib.pyplot as plt\n",
        "income = [3.5, 4.0, 4.2, 4.5, 4.7, 5.0, 5.3, 5.5, 5.7, 6.0]\n",
        "n = len(income)\n",
        "mean = sum(income) / n\n",
        "\n",
        "variance = sum((x - mean) ** 2 for x in income) / (n - 1)\n",
        "std_dev = math.sqrt(variance)\n",
        "se = std_dev / math.sqrt(n)\n",
        "z = 1.96\n",
        "ci_lower = mean - z * se\n",
        "ci_upper = mean + z * se\n",
        "print(\"Mean Income:\", mean)\n",
        "print(\"Standard Deviation:\", std_dev)\n",
        "print(\"95% Confidence Interval: (\", ci_lower, \",\", ci_upper, \")\")\n",
        "\n",
        "# Step 5: Box Plot\n",
        "plt.boxplot(income, vert=True, patch_artist=True, labels=[\"Income ($1000s)\"])\n",
        "plt.title(\"Box Plot of Monthly Incomes\")\n",
        "plt.ylabel(\"Income ($1000s)\")\n",
        "plt.show()\n"
      ],
      "metadata": {
        "colab": {
          "base_uri": "https://localhost:8080/",
          "height": 559
        },
        "id": "LKgC629WVPkF",
        "outputId": "8e386869-b12c-4be1-bc8f-0c25d569fcd7"
      },
      "execution_count": 12,
      "outputs": [
        {
          "output_type": "stream",
          "name": "stdout",
          "text": [
            "Mean Income: 4.84\n",
            "Standard Deviation: 0.8030497424748289\n",
            "95% Confidence Interval: ( 4.342264612916104 , 5.337735387083896 )\n"
          ]
        },
        {
          "output_type": "stream",
          "name": "stderr",
          "text": [
            "/tmp/ipython-input-3441875289.py:20: MatplotlibDeprecationWarning: The 'labels' parameter of boxplot() has been renamed 'tick_labels' since Matplotlib 3.9; support for the old name will be dropped in 3.11.\n",
            "  plt.boxplot(income, vert=True, patch_artist=True, labels=[\"Income ($1000s)\"])\n"
          ]
        },
        {
          "output_type": "display_data",
          "data": {
            "text/plain": [
              "<Figure size 640x480 with 1 Axes>"
            ],
            "image/png": "[encoded data removed]"
          },
          "metadata": {}
        }
      ]
    },
    {
      "cell_type": "code",
      "source": [
        "# 11.  Dataset: Sample data of a new drug's effect on blood pressure reduction\n",
        "import math\n",
        "data = [10, 12, 14, 15, 13, 16, 18, 17, 19, 20]\n",
        "n = len(data)\n",
        "mean = sum(data) / n\n",
        "variance = sum((x - mean) ** 2 for x in data) / (n - 1)\n",
        "std_dev = math.sqrt(variance)\n",
        "mu0 = 0  # hypothesized mean\n",
        "t_stat = (mean - mu0) / (std_dev / math.sqrt(n))\n",
        "df = n - 1\n",
        "p_value = 1 - 0.5 * (1 + math.erf(t_stat / math.sqrt(2)))\n",
        "t_crit = 2.262\n",
        "se = std_dev / math.sqrt(n)\n",
        "ci_lower = mean - t_crit * se\n",
        "ci_upper = mean + t_crit * se\n",
        "\n",
        "print(\"Sample Mean:\", round(mean, 2))\n",
        "print(\"Standard Deviation:\", round(std_dev, 2))\n",
        "print(\"t-statistic:\", round(t_stat, 2))\n",
        "print(\"Degrees of freedom:\", df)\n",
        "print(\"Approx p-value:\", p_value)\n",
        "print(\"95% Confidence Interval: (\", round(ci_lower, 2), \",\", round(ci_upper, 2), \")\")\n",
        "\n"
      ],
      "metadata": {
        "colab": {
          "base_uri": "https://localhost:8080/"
        },
        "id": "m4T90U2zWQDg",
        "outputId": "908d7b3c-bd67-4088-e68e-6c988666b500"
      },
      "execution_count": 15,
      "outputs": [
        {
          "output_type": "stream",
          "name": "stdout",
          "text": [
            "Sample Mean: 15.4\n",
            "Standard Deviation: 3.2\n",
            "t-statistic: 15.2\n",
            "Degrees of freedom: 9\n",
            "Approx p-value: 0.0\n",
            "95% Confidence Interval: ( 13.11 , 17.69 )\n"
          ]
        }
      ]
    },
    {
      "cell_type": "code",
      "source": [],
      "metadata": {
        "id": "EY0j6F3iWyo0"
      },
      "execution_count": null,
      "outputs": []
    }
  ]
}