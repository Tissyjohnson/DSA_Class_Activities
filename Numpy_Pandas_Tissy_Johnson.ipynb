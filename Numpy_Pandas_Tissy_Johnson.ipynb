{
  "nbformat": 4,
  "nbformat_minor": 0,
  "metadata": {
    "colab": {
      "provenance": [],
      "authorship_tag": "ABX9TyPRha0+sWx7EOVNJ0mQXBtI",
      "include_colab_link": true
    },
    "kernelspec": {
      "name": "python3",
      "display_name": "Python 3"
    },
    "language_info": {
      "name": "python"
    }
  },
  "cells": [
    {
      "cell_type": "markdown",
      "metadata": {
        "id": "view-in-github",
        "colab_type": "text"
      },
      "source": [
        "<a href=\"https://colab.research.google.com/github/Tissyjohnson/DSA_Class_Activities/blob/main/Numpy_Pandas_Tissy_Johnson.ipynb\" target=\"_parent\"><img src=\"https://colab.research.google.com/assets/colab-badge.svg\" alt=\"Open In Colab\"/></a>"
      ]
    },
    {
      "cell_type": "code",
      "execution_count": 1,
      "metadata": {
        "colab": {
          "base_uri": "https://localhost:8080/"
        },
        "id": "WksyUHY-H4CS",
        "outputId": "4bf0248f-07d6-423d-834a-440b65a6106a"
      },
      "outputs": [
        {
          "output_type": "stream",
          "name": "stdout",
          "text": [
            "Array from 10 to 49:\n",
            " [10 11 12 13 14 15 16 17 18 19 20 21 22 23 24 25 26 27 28 29 30 31 32 33\n",
            " 34 35 36 37 38 39 40 41 42 43 44 45 46 47 48 49]\n",
            "\n",
            "Reshaped 4x10 matrix:\n",
            " [[10 11 12 13 14 15 16 17 18 19]\n",
            " [20 21 22 23 24 25 26 27 28 29]\n",
            " [30 31 32 33 34 35 36 37 38 39]\n",
            " [40 41 42 43 44 45 46 47 48 49]]\n",
            "\n",
            "Last column:\n",
            " [19 29 39 49]\n"
          ]
        }
      ],
      "source": [
        "# Create array with values from 10 to 49 (inclusive)\n",
        "import numpy as np\n",
        "arr = np.arange(10, 50)\n",
        "matrix = arr.reshape(4, 10)\n",
        "last_col = matrix[:, -1]\n",
        "print(\"Array from 10 to 49:\\n\", arr)\n",
        "print(\"\\nReshaped 4x10 matrix:\\n\", matrix)\n",
        "print(\"\\nLast column:\\n\", last_col)\n"
      ]
    },
    {
      "cell_type": "code",
      "source": [
        "# Create two 3×3 matrices\n",
        "import numpy as np\n",
        "A = np.full((3, 3), 5)\n",
        "B = np.arange(1, 10).reshape(3, 3)\n",
        "add_result = A + B\n",
        "mul_result = A * B\n",
        "transpose_result = mul_result.T\n",
        "\n",
        "print(\"Matrix A (all 5s):\\n\", A)\n",
        "print(\"\\nMatrix B (1 to 9):\\n\", B)\n",
        "print(\"\\nAddition Result:\\n\", add_result)\n",
        "print(\"\\nElement-wise Multiplication Result:\\n\", mul_result)\n",
        "print(\"\\nTranspose of Multiplication Result:\\n\", transpose_result)\n"
      ],
      "metadata": {
        "colab": {
          "base_uri": "https://localhost:8080/"
        },
        "id": "t-AwcRD6Ik2J",
        "outputId": "22638145-5464-49c8-b340-dcd44c0eaeac"
      },
      "execution_count": 2,
      "outputs": [
        {
          "output_type": "stream",
          "name": "stdout",
          "text": [
            "Matrix A (all 5s):\n",
            " [[5 5 5]\n",
            " [5 5 5]\n",
            " [5 5 5]]\n",
            "\n",
            "Matrix B (1 to 9):\n",
            " [[1 2 3]\n",
            " [4 5 6]\n",
            " [7 8 9]]\n",
            "\n",
            "Addition Result:\n",
            " [[ 6  7  8]\n",
            " [ 9 10 11]\n",
            " [12 13 14]]\n",
            "\n",
            "Element-wise Multiplication Result:\n",
            " [[ 5 10 15]\n",
            " [20 25 30]\n",
            " [35 40 45]]\n",
            "\n",
            "Transpose of Multiplication Result:\n",
            " [[ 5 20 35]\n",
            " [10 25 40]\n",
            " [15 30 45]]\n"
          ]
        }
      ]
    },
    {
      "cell_type": "code",
      "source": [
        "# Create array of 15 random integers between 10 and 100\n",
        "import numpy as np\n",
        "arr = np.random.randint(10, 101, size=15)\n",
        "replaced_arr = arr.copy()\n",
        "replaced_arr[replaced_arr > 50] = -1\n",
        "count_replaced = np.sum(arr > 50)\n",
        "\n",
        "print(\"Original Array:\\n\", arr)\n",
        "print(\"\\nModified Array:\\n\", replaced_arr)\n",
        "print(\"\\nNumber of values replaced:\", count_replaced)\n"
      ],
      "metadata": {
        "colab": {
          "base_uri": "https://localhost:8080/"
        },
        "id": "NqYQULN6JIQp",
        "outputId": "1fac5f47-163b-4ff2-e4b3-8f5a053f12be"
      },
      "execution_count": 3,
      "outputs": [
        {
          "output_type": "stream",
          "name": "stdout",
          "text": [
            "Original Array:\n",
            " [49 83 35 45 44 83 37 92 32 97 36 24 76 15 89]\n",
            "\n",
            "Modified Array:\n",
            " [49 -1 35 45 44 -1 37 -1 32 -1 36 24 -1 15 -1]\n",
            "\n",
            "Number of values replaced: 6\n"
          ]
        }
      ]
    },
    {
      "cell_type": "code",
      "source": [
        "import numpy as np\n",
        "arr = np.random.rand(5, 4)\n",
        "print(\"Original Array:\\n\", arr)\n",
        "row_sums = arr.sum(axis=1)\n",
        "max_row_index = np.argmax(row_sums)\n",
        "print(\"\\nRow sums:\", row_sums)\n",
        "print(\"Row with maximum sum is:\", max_row_index)\n",
        "normalized_arr = np.zeros_like(arr)\n",
        "for i, row in enumerate(arr):\n",
        "    row_min, row_max = row.min(), row.max()\n",
        "    normalized_arr[i] = (row - row_min) / (row_max - row_min)\n",
        "\n",
        "print(\"\\nNormalized Array:\\n\", normalized_arr)\n"
      ],
      "metadata": {
        "colab": {
          "base_uri": "https://localhost:8080/"
        },
        "id": "i6XIcudTWe4c",
        "outputId": "b3169082-85fc-412d-f5bd-7898380997a8"
      },
      "execution_count": 26,
      "outputs": [
        {
          "output_type": "stream",
          "name": "stdout",
          "text": [
            "Original Array:\n",
            " [[0.58863885 0.09762703 0.10083363 0.65706128]\n",
            " [0.34723027 0.79788353 0.11837491 0.82147748]\n",
            " [0.1763669  0.98875945 0.24303128 0.46377252]\n",
            " [0.60950441 0.58918769 0.91310413 0.90172155]\n",
            " [0.88237091 0.76764643 0.95092306 0.62563041]]\n",
            "\n",
            "Row sums: [1.44416078 2.08496619 1.87193015 3.01351777 3.22657081]\n",
            "Row with maximum sum is: 4\n",
            "\n",
            "Normalized Array:\n",
            " [[0.87769353 0.         0.00573186 1.        ]\n",
            " [0.32549357 0.96644308 0.         1.        ]\n",
            " [0.         1.         0.08205931 0.35377678]\n",
            " [0.06272211 0.         1.         0.96485951]\n",
            " [0.78926006 0.43657926 1.         0.        ]]\n"
          ]
        }
      ]
    },
    {
      "cell_type": "code",
      "source": [
        "import numpy as np\n",
        "arr = np.array([1, 3, 5, 3, 7, 9, 1, 5, 5])\n",
        "# Find all unique elements\n",
        "unique_elements = np.unique(arr)\n",
        "\n",
        "# Find duplicates (elements with count > 1)\n",
        "unique, counts = np.unique(arr, return_counts=True)\n",
        "duplicates = unique[counts > 1]\n",
        "\n",
        "print(\"Unique elements:\", unique_elements)\n",
        "print(\"Duplicates:\", duplicates)\n"
      ],
      "metadata": {
        "colab": {
          "base_uri": "https://localhost:8080/"
        },
        "id": "1WkS5LfaJZ_P",
        "outputId": "4b220f99-9424-42f1-fb8e-ad0a38326d75"
      },
      "execution_count": 4,
      "outputs": [
        {
          "output_type": "stream",
          "name": "stdout",
          "text": [
            "Unique elements: [1 3 5 7 9]\n",
            "Duplicates: [1 3 5]\n"
          ]
        }
      ]
    },
    {
      "cell_type": "code",
      "source": [
        "# Create a 6×6 NumPy array with values from 1 to 36.\n",
        "import numpy as np\n",
        "arr = np.arange(1, 37).reshape(6, 6)\n",
        "submatrix = arr[1:5, 1:5]\n",
        "even_numbers = submatrix[submatrix % 2 == 0]\n",
        "\n",
        "print(\"Original 6x6 Matrix:\\n\", arr)\n",
        "print(\"\\nMiddle 4x4 Submatrix:\\n\", submatrix)\n",
        "print(\"\\nEven numbers from Submatrix:\\n\", even_numbers)\n"
      ],
      "metadata": {
        "colab": {
          "base_uri": "https://localhost:8080/"
        },
        "id": "vc3T1BKPJtu8",
        "outputId": "b97cd22d-c09c-47f9-8377-2f11dbb9fd43"
      },
      "execution_count": 5,
      "outputs": [
        {
          "output_type": "stream",
          "name": "stdout",
          "text": [
            "Original 6x6 Matrix:\n",
            " [[ 1  2  3  4  5  6]\n",
            " [ 7  8  9 10 11 12]\n",
            " [13 14 15 16 17 18]\n",
            " [19 20 21 22 23 24]\n",
            " [25 26 27 28 29 30]\n",
            " [31 32 33 34 35 36]]\n",
            "\n",
            "Middle 4x4 Submatrix:\n",
            " [[ 8  9 10 11]\n",
            " [14 15 16 17]\n",
            " [20 21 22 23]\n",
            " [26 27 28 29]]\n",
            "\n",
            "Even numbers from Submatrix:\n",
            " [ 8 10 14 16 20 22 26 28]\n"
          ]
        }
      ]
    },
    {
      "cell_type": "code",
      "source": [
        "# Generate array of shape (3, 4) with values 0 to 11\n",
        "import numpy as np\n",
        "arr = np.arange(12).reshape(3, 4)\n",
        "reshaped_2x6 = arr.reshape(2, 6)\n",
        "flattened = arr.flatten()\n",
        "reshaped_4x3 = flattened.reshape(4, 3)\n",
        "\n",
        "print(\"Original (3x4) array:\\n\", arr)\n",
        "print(\"\\nReshaped (2x6) array:\\n\", reshaped_2x6)\n",
        "print(\"\\nFlattened 1D array:\\n\", flattened)\n",
        "print(\"\\nReshaped back to (4x3):\\n\", reshaped_4x3)\n"
      ],
      "metadata": {
        "colab": {
          "base_uri": "https://localhost:8080/"
        },
        "id": "05hDmZYIKEvZ",
        "outputId": "af148c89-73f1-4ffc-8e07-1f07502ff4e5"
      },
      "execution_count": 6,
      "outputs": [
        {
          "output_type": "stream",
          "name": "stdout",
          "text": [
            "Original (3x4) array:\n",
            " [[ 0  1  2  3]\n",
            " [ 4  5  6  7]\n",
            " [ 8  9 10 11]]\n",
            "\n",
            "Reshaped (2x6) array:\n",
            " [[ 0  1  2  3  4  5]\n",
            " [ 6  7  8  9 10 11]]\n",
            "\n",
            "Flattened 1D array:\n",
            " [ 0  1  2  3  4  5  6  7  8  9 10 11]\n",
            "\n",
            "Reshaped back to (4x3):\n",
            " [[ 0  1  2]\n",
            " [ 3  4  5]\n",
            " [ 6  7  8]\n",
            " [ 9 10 11]]\n"
          ]
        }
      ]
    },
    {
      "cell_type": "code",
      "source": [
        "# Create an array: a = np.array([[1, 2], [3, 4]])\n",
        "import numpy as np\n",
        "a = np.array([[1, 2],\n",
        "              [3, 4]])\n",
        "\n",
        "a_new_row = np.vstack([a, [5, 6]])\n",
        "a_new_col = np.column_stack([a_new_row, [7, 8, 9]])\n",
        "\n",
        "print(\"Original array:\\n\", a)\n",
        "print(\"\\nAfter appending row [5, 6]:\\n\", a_new_row)\n",
        "print(\"\\nAfter appending column [7, 8, 9]:\\n\", a_new_col)\n"
      ],
      "metadata": {
        "colab": {
          "base_uri": "https://localhost:8080/"
        },
        "id": "kdz_NqbYKUGt",
        "outputId": "9eb44027-0132-4ed4-8a77-702d0f432f17"
      },
      "execution_count": 7,
      "outputs": [
        {
          "output_type": "stream",
          "name": "stdout",
          "text": [
            "Original array:\n",
            " [[1 2]\n",
            " [3 4]]\n",
            "\n",
            "After appending row [5, 6]:\n",
            " [[1 2]\n",
            " [3 4]\n",
            " [5 6]]\n",
            "\n",
            "After appending column [7, 8, 9]:\n",
            " [[1 2 7]\n",
            " [3 4 8]\n",
            " [5 6 9]]\n"
          ]
        }
      ]
    },
    {
      "cell_type": "code",
      "source": [
        "#Join them into a single array\n",
        "import numpy as np\n",
        "a = np.array([1, 2, 3])\n",
        "b = np.array([4, 5, 6])\n",
        "c = np.array([7, 8, 9])\n",
        "joined = np.concatenate([a, b, c])\n",
        "matrix = joined.reshape(3, 3)\n",
        "diagonal = np.diag(matrix)\n",
        "\n",
        "print(\"Joined array:\\n\", joined)\n",
        "print(\"\\nReshaped 3x3 matrix:\\n\", matrix)\n",
        "print(\"\\nDiagonal elements:\", diagonal)\n"
      ],
      "metadata": {
        "colab": {
          "base_uri": "https://localhost:8080/"
        },
        "id": "X9X-EDNjKsZu",
        "outputId": "0852f293-c2c3-4aee-a103-f9c71020fb4d"
      },
      "execution_count": 8,
      "outputs": [
        {
          "output_type": "stream",
          "name": "stdout",
          "text": [
            "Joined array:\n",
            " [1 2 3 4 5 6 7 8 9]\n",
            "\n",
            "Reshaped 3x3 matrix:\n",
            " [[1 2 3]\n",
            " [4 5 6]\n",
            " [7 8 9]]\n",
            "\n",
            "Diagonal elements: [1 5 9]\n"
          ]
        }
      ]
    },
    {
      "cell_type": "code",
      "source": [
        "# Create array of integers from 1 to 20\n",
        "import numpy as np\n",
        "arr = np.arange(1, 21)\n",
        "divisible = arr[(arr % 3 == 0) | (arr % 5 == 0)]\n",
        "count = divisible.size\n",
        "\n",
        "print(\"Original array:\\n\", arr)\n",
        "print(\"\\nValues divisible by 3 or 5:\\n\", divisible)\n",
        "print(\"\\nCount:\", count)\n"
      ],
      "metadata": {
        "colab": {
          "base_uri": "https://localhost:8080/"
        },
        "id": "-do1dtUjLD2b",
        "outputId": "daadef70-03fb-4a0c-ed28-76ca77ef200b"
      },
      "execution_count": 9,
      "outputs": [
        {
          "output_type": "stream",
          "name": "stdout",
          "text": [
            "Original array:\n",
            " [ 1  2  3  4  5  6  7  8  9 10 11 12 13 14 15 16 17 18 19 20]\n",
            "\n",
            "Values divisible by 3 or 5:\n",
            " [ 3  5  6  9 10 12 15 18 20]\n",
            "\n",
            "Count: 9\n"
          ]
        }
      ]
    },
    {
      "cell_type": "markdown",
      "source": [
        "PANDAS"
      ],
      "metadata": {
        "id": "IvrkwRB3RXIl"
      }
    },
    {
      "cell_type": "code",
      "source": [
        "# Load the Titanic dataset and display the first 10 rows.\n",
        "import seaborn as sns\n",
        "import pandas as pd\n",
        "titanic = sns.load_dataset(\"titanic\")\n",
        "\n",
        "print(titanic.head(10))\n"
      ],
      "metadata": {
        "colab": {
          "base_uri": "https://localhost:8080/"
        },
        "id": "leQSNivYLRQi",
        "outputId": "40267097-9985-4f2b-9313-3b2e0deefd81"
      },
      "execution_count": 10,
      "outputs": [
        {
          "output_type": "stream",
          "name": "stdout",
          "text": [
            "   survived  pclass     sex   age  sibsp  parch     fare embarked   class  \\\n",
            "0         0       3    male  22.0      1      0   7.2500        S   Third   \n",
            "1         1       1  female  38.0      1      0  71.2833        C   First   \n",
            "2         1       3  female  26.0      0      0   7.9250        S   Third   \n",
            "3         1       1  female  35.0      1      0  53.1000        S   First   \n",
            "4         0       3    male  35.0      0      0   8.0500        S   Third   \n",
            "5         0       3    male   NaN      0      0   8.4583        Q   Third   \n",
            "6         0       1    male  54.0      0      0  51.8625        S   First   \n",
            "7         0       3    male   2.0      3      1  21.0750        S   Third   \n",
            "8         1       3  female  27.0      0      2  11.1333        S   Third   \n",
            "9         1       2  female  14.0      1      0  30.0708        C  Second   \n",
            "\n",
            "     who  adult_male deck  embark_town alive  alone  \n",
            "0    man        True  NaN  Southampton    no  False  \n",
            "1  woman       False    C    Cherbourg   yes  False  \n",
            "2  woman       False  NaN  Southampton   yes   True  \n",
            "3  woman       False    C  Southampton   yes  False  \n",
            "4    man        True  NaN  Southampton    no   True  \n",
            "5    man        True  NaN   Queenstown    no   True  \n",
            "6    man        True    E  Southampton    no   True  \n",
            "7  child       False  NaN  Southampton    no  False  \n",
            "8  woman       False  NaN  Southampton   yes  False  \n",
            "9  child       False  NaN    Cherbourg   yes  False  \n"
          ]
        }
      ]
    },
    {
      "cell_type": "code",
      "source": [
        "# Find the number of missing values in each column.\n",
        "import seaborn as sns\n",
        "import pandas as pd\n",
        "titanic = sns.load_dataset(\"titanic\")\n",
        "\n",
        "missing_values = titanic.isnull().sum()\n",
        "\n",
        "print(\"Missing values per column:\\n\", missing_values)\n"
      ],
      "metadata": {
        "colab": {
          "base_uri": "https://localhost:8080/"
        },
        "id": "_xs17ziHRgAO",
        "outputId": "2af02a01-b03f-4839-d8e5-94e9c828bc90"
      },
      "execution_count": 11,
      "outputs": [
        {
          "output_type": "stream",
          "name": "stdout",
          "text": [
            "Missing values per column:\n",
            " survived         0\n",
            "pclass           0\n",
            "sex              0\n",
            "age            177\n",
            "sibsp            0\n",
            "parch            0\n",
            "fare             0\n",
            "embarked         2\n",
            "class            0\n",
            "who              0\n",
            "adult_male       0\n",
            "deck           688\n",
            "embark_town      2\n",
            "alive            0\n",
            "alone            0\n",
            "dtype: int64\n"
          ]
        }
      ]
    },
    {
      "cell_type": "code",
      "source": [
        "# Find the percentage of passengers who survived, grouped by gender.\n",
        "import seaborn as sns\n",
        "import pandas as pd\n",
        "titanic = sns.load_dataset(\"titanic\")\n",
        "survival_by_gender = titanic.groupby(\"sex\")[\"survived\"].mean() * 100\n",
        "\n",
        "print(\"Survival percentage by gender:\\n\", survival_by_gender)\n"
      ],
      "metadata": {
        "colab": {
          "base_uri": "https://localhost:8080/"
        },
        "id": "nIHfbl_bRwZ8",
        "outputId": "b1f9bde3-0343-4d47-e102-cb70b918808f"
      },
      "execution_count": 12,
      "outputs": [
        {
          "output_type": "stream",
          "name": "stdout",
          "text": [
            "Survival percentage by gender:\n",
            " sex\n",
            "female    74.203822\n",
            "male      18.890815\n",
            "Name: survived, dtype: float64\n"
          ]
        }
      ]
    },
    {
      "cell_type": "code",
      "source": [
        "# Find the average, median, and standard deviation of passenger ages.\n",
        "import seaborn as sns\n",
        "import pandas as pd\n",
        "titanic = sns.load_dataset(\"titanic\")\n",
        "avg_age = titanic[\"age\"].mean()\n",
        "median_age = titanic[\"age\"].median()\n",
        "std_age = titanic[\"age\"].std()\n",
        "\n",
        "print(\"Average Age:\", avg_age)\n",
        "print(\"Median Age:\", median_age)\n",
        "print(\"Standard Deviation of Age:\", std_age)\n"
      ],
      "metadata": {
        "colab": {
          "base_uri": "https://localhost:8080/"
        },
        "id": "MWNT-CKISl7c",
        "outputId": "088006cd-26bf-4b32-9f0b-e86d8a7faf64"
      },
      "execution_count": 13,
      "outputs": [
        {
          "output_type": "stream",
          "name": "stdout",
          "text": [
            "Average Age: 29.69911764705882\n",
            "Median Age: 28.0\n",
            "Standard Deviation of Age: 14.526497332334044\n"
          ]
        }
      ]
    },
    {
      "cell_type": "code",
      "source": [
        "# Count how many passengers were in each class (pclass).\n",
        "import seaborn as sns\n",
        "import pandas as pd\n",
        "titanic = sns.load_dataset(\"titanic\")\n",
        "class_counts = titanic[\"pclass\"].value_counts()\n",
        "\n",
        "print(\"Passenger count by class:\\n\", class_counts)\n"
      ],
      "metadata": {
        "colab": {
          "base_uri": "https://localhost:8080/"
        },
        "id": "YXaK1_reS55f",
        "outputId": "eb178ad5-9daa-4066-caa2-47021c0b9d9b"
      },
      "execution_count": 14,
      "outputs": [
        {
          "output_type": "stream",
          "name": "stdout",
          "text": [
            "Passenger count by class:\n",
            " pclass\n",
            "3    491\n",
            "1    216\n",
            "2    184\n",
            "Name: count, dtype: int64\n"
          ]
        }
      ]
    },
    {
      "cell_type": "code",
      "source": [
        "# Show all passengers who were female, under age 18, and survived\n",
        "import seaborn as sns\n",
        "import pandas as pd\n",
        "\n",
        "titanic = sns.load_dataset(\"titanic\")\n",
        "female_young_survivors = titanic[\n",
        "    (titanic[\"sex\"] == \"female\") &\n",
        "    (titanic[\"age\"] < 18) &\n",
        "    (titanic[\"survived\"] == 1)\n",
        "]\n",
        "\n",
        "print(\"Female passengers under 18 who survived:\\n\")\n",
        "print(female_young_survivors)\n"
      ],
      "metadata": {
        "colab": {
          "base_uri": "https://localhost:8080/"
        },
        "id": "ntq2zm8xTTKI",
        "outputId": "f15875f9-3c01-4bc8-81c9-5de2227dda25"
      },
      "execution_count": 25,
      "outputs": [
        {
          "output_type": "stream",
          "name": "stdout",
          "text": [
            "Female passengers under 18 who survived:\n",
            "\n",
            "     survived  pclass     sex    age  sibsp  parch      fare embarked   class  \\\n",
            "9           1       2  female  14.00      1      0   30.0708        C  Second   \n",
            "10          1       3  female   4.00      1      1   16.7000        S   Third   \n",
            "22          1       3  female  15.00      0      0    8.0292        Q   Third   \n",
            "39          1       3  female  14.00      1      0   11.2417        C   Third   \n",
            "43          1       2  female   3.00      1      2   41.5792        C  Second   \n",
            "58          1       2  female   5.00      1      2   27.7500        S  Second   \n",
            "68          1       3  female  17.00      4      2    7.9250        S   Third   \n",
            "84          1       2  female  17.00      0      0   10.5000        S  Second   \n",
            "156         1       3  female  16.00      0      0    7.7333        Q   Third   \n",
            "172         1       3  female   1.00      1      1   11.1333        S   Third   \n",
            "184         1       3  female   4.00      0      2   22.0250        S   Third   \n",
            "208         1       3  female  16.00      0      0    7.7500        Q   Third   \n",
            "233         1       3  female   5.00      4      2   31.3875        S   Third   \n",
            "237         1       2  female   8.00      0      2   26.2500        S  Second   \n",
            "307         1       1  female  17.00      1      0  108.9000        C   First   \n",
            "329         1       1  female  16.00      0      1   57.9792        C   First   \n",
            "381         1       3  female   1.00      0      2   15.7417        C   Third   \n",
            "389         1       2  female  17.00      0      0   12.0000        C  Second   \n",
            "435         1       1  female  14.00      1      2  120.0000        S   First   \n",
            "446         1       2  female  13.00      0      1   19.5000        S  Second   \n",
            "448         1       3  female   5.00      2      1   19.2583        C   Third   \n",
            "469         1       3  female   0.75      2      1   19.2583        C   Third   \n",
            "479         1       3  female   2.00      0      1   12.2875        S   Third   \n",
            "504         1       1  female  16.00      0      0   86.5000        S   First   \n",
            "530         1       2  female   2.00      1      1   26.0000        S  Second   \n",
            "535         1       2  female   7.00      0      2   26.2500        S  Second   \n",
            "618         1       2  female   4.00      2      1   39.0000        S  Second   \n",
            "644         1       3  female   0.75      2      1   19.2583        C   Third   \n",
            "689         1       1  female  15.00      0      1  211.3375        S   First   \n",
            "691         1       3  female   4.00      0      1   13.4167        C   Third   \n",
            "720         1       2  female   6.00      0      1   33.0000        S  Second   \n",
            "750         1       2  female   4.00      1      1   23.0000        S  Second   \n",
            "777         1       3  female   5.00      0      0   12.4750        S   Third   \n",
            "780         1       3  female  13.00      0      0    7.2292        C   Third   \n",
            "781         1       1  female  17.00      1      0   57.0000        S   First   \n",
            "830         1       3  female  15.00      1      0   14.4542        C   Third   \n",
            "853         1       1  female  16.00      0      1   39.4000        S   First   \n",
            "875         1       3  female  15.00      0      0    7.2250        C   Third   \n",
            "\n",
            "       who  adult_male deck  embark_town alive  alone  \n",
            "9    child       False  NaN    Cherbourg   yes  False  \n",
            "10   child       False    G  Southampton   yes  False  \n",
            "22   child       False  NaN   Queenstown   yes   True  \n",
            "39   child       False  NaN    Cherbourg   yes  False  \n",
            "43   child       False  NaN    Cherbourg   yes  False  \n",
            "58   child       False  NaN  Southampton   yes  False  \n",
            "68   woman       False  NaN  Southampton   yes  False  \n",
            "84   woman       False  NaN  Southampton   yes   True  \n",
            "156  woman       False  NaN   Queenstown   yes   True  \n",
            "172  child       False  NaN  Southampton   yes  False  \n",
            "184  child       False  NaN  Southampton   yes  False  \n",
            "208  woman       False  NaN   Queenstown   yes   True  \n",
            "233  child       False  NaN  Southampton   yes  False  \n",
            "237  child       False  NaN  Southampton   yes  False  \n",
            "307  woman       False    C    Cherbourg   yes  False  \n",
            "329  woman       False    B    Cherbourg   yes  False  \n",
            "381  child       False  NaN    Cherbourg   yes  False  \n",
            "389  woman       False  NaN    Cherbourg   yes   True  \n",
            "435  child       False    B  Southampton   yes  False  \n",
            "446  child       False  NaN  Southampton   yes  False  \n",
            "448  child       False  NaN    Cherbourg   yes  False  \n",
            "469  child       False  NaN    Cherbourg   yes  False  \n",
            "479  child       False  NaN  Southampton   yes  False  \n",
            "504  woman       False    B  Southampton   yes   True  \n",
            "530  child       False  NaN  Southampton   yes  False  \n",
            "535  child       False  NaN  Southampton   yes  False  \n",
            "618  child       False    F  Southampton   yes  False  \n",
            "644  child       False  NaN    Cherbourg   yes  False  \n",
            "689  child       False    B  Southampton   yes  False  \n",
            "691  child       False  NaN    Cherbourg   yes  False  \n",
            "720  child       False  NaN  Southampton   yes  False  \n",
            "750  child       False  NaN  Southampton   yes  False  \n",
            "777  child       False  NaN  Southampton   yes   True  \n",
            "780  child       False  NaN    Cherbourg   yes   True  \n",
            "781  woman       False    B  Southampton   yes  False  \n",
            "830  child       False  NaN    Cherbourg   yes  False  \n",
            "853  woman       False    D  Southampton   yes  False  \n",
            "875  child       False  NaN    Cherbourg   yes   True  \n"
          ]
        }
      ]
    },
    {
      "cell_type": "code",
      "source": [
        "# Replace missing age values with the median age.\n",
        "import seaborn as sns\n",
        "import pandas as pd\n",
        "\n",
        "titanic = sns.load_dataset(\"titanic\")\n",
        "\n",
        "median_age = titanic[\"age\"].median()\n",
        "print(\"Median Age used for replacement:\", median_age)\n",
        "titanic[\"age\"] = titanic[\"age\"].fillna(median_age)\n",
        "\n"
      ],
      "metadata": {
        "colab": {
          "base_uri": "https://localhost:8080/"
        },
        "id": "qH14v3-fTgpb",
        "outputId": "3b35a0d0-a8c5-4fdb-e31e-cce20511c1d2"
      },
      "execution_count": 19,
      "outputs": [
        {
          "output_type": "stream",
          "name": "stdout",
          "text": [
            "Median Age used for replacement: 28.0\n"
          ]
        }
      ]
    },
    {
      "cell_type": "code",
      "source": [
        "# Create a column age_group with values:\n",
        "import seaborn as sns\n",
        "import pandas as pd\n",
        "import numpy as np\n",
        "\n",
        "titanic = sns.load_dataset(\"titanic\")\n",
        "titanic[\"age\"] = titanic[\"age\"].fillna(titanic[\"age\"].median())\n",
        "\n",
        "titanic[\"age_group\"] = np.where(titanic[\"age\"] < 18, \"Child\",\n",
        "                        np.where(titanic[\"age\"] <= 60, \"Adult\", \"Senior\"))\n",
        "\n",
        "print(titanic[[\"age\", \"age_group\"]].head(15))\n"
      ],
      "metadata": {
        "colab": {
          "base_uri": "https://localhost:8080/"
        },
        "id": "IFr3i86lTx0G",
        "outputId": "122212ec-8161-41e7-90e9-e86e126a71c9"
      },
      "execution_count": 18,
      "outputs": [
        {
          "output_type": "stream",
          "name": "stdout",
          "text": [
            "     age age_group\n",
            "0   22.0     Adult\n",
            "1   38.0     Adult\n",
            "2   26.0     Adult\n",
            "3   35.0     Adult\n",
            "4   35.0     Adult\n",
            "5   28.0     Adult\n",
            "6   54.0     Adult\n",
            "7    2.0     Child\n",
            "8   27.0     Adult\n",
            "9   14.0     Child\n",
            "10   4.0     Child\n",
            "11  58.0     Adult\n",
            "12  20.0     Adult\n",
            "13  39.0     Adult\n",
            "14  14.0     Child\n"
          ]
        }
      ]
    },
    {
      "cell_type": "code",
      "source": [
        "# Display the top 5 passengers who paid the highest fare.\n",
        "import seaborn as sns\n",
        "import pandas as pd\n",
        "\n",
        "titanic = sns.load_dataset(\"titanic\")\n",
        "top5_fares = titanic.sort_values(\"fare\", ascending=False).head(5)\n",
        "\n",
        "print(\"Top 5 passengers who paid the highest fare:\\n\")\n",
        "print(top5_fares[[\"sex\", \"pclass\", \"age\", \"fare\", \"embarked\", \"survived\"]])\n"
      ],
      "metadata": {
        "colab": {
          "base_uri": "https://localhost:8080/"
        },
        "id": "KNoY_uO4T_Pp",
        "outputId": "df4a6104-c805-4f15-b2ce-c698aff693d9"
      },
      "execution_count": 20,
      "outputs": [
        {
          "output_type": "stream",
          "name": "stdout",
          "text": [
            "Top 5 passengers who paid the highest fare:\n",
            "\n",
            "        sex  pclass   age      fare embarked  survived\n",
            "679    male       1  36.0  512.3292        C         1\n",
            "258  female       1  35.0  512.3292        C         1\n",
            "737    male       1  35.0  512.3292        C         1\n",
            "88   female       1  23.0  263.0000        S         1\n",
            "438    male       1  64.0  263.0000        S         0\n"
          ]
        }
      ]
    },
    {
      "cell_type": "code",
      "source": [
        "# Find the average fare paid, grouped by both pclass and sex.\n",
        "import seaborn as sns\n",
        "import pandas as pd\n",
        "\n",
        "titanic = sns.load_dataset(\"titanic\")\n",
        "avg_fare = titanic.groupby([\"pclass\", \"sex\"])[\"fare\"].mean()\n",
        "\n",
        "print(\"Average fare by class and gender:\\n\")\n",
        "print(avg_fare)\n"
      ],
      "metadata": {
        "colab": {
          "base_uri": "https://localhost:8080/"
        },
        "id": "EQcF9LomU15e",
        "outputId": "606f127a-950d-4b63-d6c7-917e5fa90273"
      },
      "execution_count": 21,
      "outputs": [
        {
          "output_type": "stream",
          "name": "stdout",
          "text": [
            "Average fare by class and gender:\n",
            "\n",
            "pclass  sex   \n",
            "1       female    106.125798\n",
            "        male       67.226127\n",
            "2       female     21.970121\n",
            "        male       19.741782\n",
            "3       female     16.118810\n",
            "        male       12.661633\n",
            "Name: fare, dtype: float64\n"
          ]
        }
      ]
    },
    {
      "cell_type": "code",
      "source": [
        "# Rename columns\n",
        "import seaborn as sns\n",
        "import pandas as pd\n",
        "\n",
        "titanic = sns.load_dataset(\"titanic\")\n",
        "titanic.rename(columns={\"sex\": \"gender\", \"fare\": \"ticket_fare\"}, inplace=True)\n",
        "\n",
        "print(titanic.head())\n"
      ],
      "metadata": {
        "colab": {
          "base_uri": "https://localhost:8080/"
        },
        "id": "snV4qelnVEDz",
        "outputId": "ddb27aa8-b83c-4912-bb81-5dbd0a46b141"
      },
      "execution_count": 22,
      "outputs": [
        {
          "output_type": "stream",
          "name": "stdout",
          "text": [
            "   survived  pclass  gender   age  sibsp  parch  ticket_fare embarked  class  \\\n",
            "0         0       3    male  22.0      1      0       7.2500        S  Third   \n",
            "1         1       1  female  38.0      1      0      71.2833        C  First   \n",
            "2         1       3  female  26.0      0      0       7.9250        S  Third   \n",
            "3         1       1  female  35.0      1      0      53.1000        S  First   \n",
            "4         0       3    male  35.0      0      0       8.0500        S  Third   \n",
            "\n",
            "     who  adult_male deck  embark_town alive  alone  \n",
            "0    man        True  NaN  Southampton    no  False  \n",
            "1  woman       False    C    Cherbourg   yes  False  \n",
            "2  woman       False  NaN  Southampton   yes   True  \n",
            "3  woman       False    C  Southampton   yes  False  \n",
            "4    man        True  NaN  Southampton    no   True  \n"
          ]
        }
      ]
    },
    {
      "cell_type": "code",
      "source": [
        "# Count the number of passengers who survived and didn’t survive, grouped by class.\n",
        "import seaborn as sns\n",
        "import pandas as pd\n",
        "\n",
        "titanic = sns.load_dataset(\"titanic\")\n",
        "survival_counts = titanic.groupby([\"pclass\", \"survived\"]).size().unstack()\n",
        "\n",
        "print(\"Passenger survival counts by class:\\n\")\n",
        "print(survival_counts)\n"
      ],
      "metadata": {
        "colab": {
          "base_uri": "https://localhost:8080/"
        },
        "id": "0ugW3mZ0VSRo",
        "outputId": "1ff261c8-8e21-4f4d-a21a-55d8a35b5895"
      },
      "execution_count": 23,
      "outputs": [
        {
          "output_type": "stream",
          "name": "stdout",
          "text": [
            "Passenger survival counts by class:\n",
            "\n",
            "survived    0    1\n",
            "pclass            \n",
            "1          80  136\n",
            "2          97   87\n",
            "3         372  119\n"
          ]
        }
      ]
    },
    {
      "cell_type": "code",
      "source": [
        "# Find the average age of passengers grouped by both class and gender.\n",
        "import seaborn as sns\n",
        "import pandas as pd\n",
        "\n",
        "titanic = sns.load_dataset(\"titanic\")\n",
        "titanic[\"age\"] = titanic[\"age\"].fillna(titanic[\"age\"].median())\n",
        "avg_age = titanic.groupby([\"pclass\", \"sex\"])[\"age\"].mean()\n",
        "\n",
        "print(\"Average age of passengers grouped by class and gender:\\n\")\n",
        "print(avg_age)\n"
      ],
      "metadata": {
        "colab": {
          "base_uri": "https://localhost:8080/"
        },
        "id": "joPWf2_jVeLA",
        "outputId": "462d46a7-fc1f-4d8d-80a2-1d770f77289e"
      },
      "execution_count": 24,
      "outputs": [
        {
          "output_type": "stream",
          "name": "stdout",
          "text": [
            "Average age of passengers grouped by class and gender:\n",
            "\n",
            "pclass  sex   \n",
            "1       female    33.978723\n",
            "        male      38.995246\n",
            "2       female    28.703947\n",
            "        male      30.512315\n",
            "3       female    23.572917\n",
            "        male      26.911873\n",
            "Name: age, dtype: float64\n"
          ]
        }
      ]
    },
    {
      "cell_type": "code",
      "source": [],
      "metadata": {
        "id": "IwcHAoMiVqEk"
      },
      "execution_count": null,
      "outputs": []
    }
  ]
}