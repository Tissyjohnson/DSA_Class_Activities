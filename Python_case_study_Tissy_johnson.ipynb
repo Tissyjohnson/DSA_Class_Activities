{
  "nbformat": 4,
  "nbformat_minor": 0,
  "metadata": {
    "colab": {
      "provenance": [],
      "authorship_tag": "ABX9TyOPINipWdkighFVA2XnoDVB",
      "include_colab_link": true
    },
    "kernelspec": {
      "name": "python3",
      "display_name": "Python 3"
    },
    "language_info": {
      "name": "python"
    }
  },
  "cells": [
    {
      "cell_type": "markdown",
      "metadata": {
        "id": "view-in-github",
        "colab_type": "text"
      },
      "source": [
        "<a href=\"https://colab.research.google.com/github/Tissyjohnson/DSA_Class_Activities/blob/main/Python_case_study_Tissy_johnson.ipynb\" target=\"_parent\"><img src=\"https://colab.research.google.com/assets/colab-badge.svg\" alt=\"Open In Colab\"/></a>"
      ]
    },
    {
      "cell_type": "code",
      "execution_count": 3,
      "metadata": {
        "colab": {
          "base_uri": "https://localhost:8080/"
        },
        "id": "iQAGJIe84KoE",
        "outputId": "e1722540-b0ad-4b09-a485-bde616778177"
      },
      "outputs": [
        {
          "output_type": "stream",
          "name": "stdout",
          "text": [
            "maximum value: 89  minimum value: 5\n"
          ]
        }
      ],
      "source": [
        "# Write a function that return the range of a given list of numbers\n",
        "listt = [11, 6, 5, 55, 37, 44, 78, 83, 60, 89, 45]\n",
        "def max_min(numbers):\n",
        "    if not numbers:\n",
        "        print(\"List is empty\")\n",
        "        return\n",
        "    max_value = numbers[0]\n",
        "    min_value = numbers[0]\n",
        "    for num in numbers:\n",
        "        if num > max_value:\n",
        "            max_value = num\n",
        "        if num < min_value:\n",
        "            min_value = num\n",
        "    print(f\"maximum value: {max_value}  minimum value: {min_value}\")\n",
        "max_min(listt)"
      ]
    },
    {
      "cell_type": "code",
      "source": [
        "# Write function that returns mean value of a list\n",
        "nums = [5, 6, 11, 12, 18, 34, 56, 78, 69, 30]\n",
        "def find_mean(numbers):\n",
        "    if not numbers:\n",
        "        return None\n",
        "    total = 0\n",
        "    for num in numbers:\n",
        "        total += num\n",
        "    mean = total / len(numbers)\n",
        "    return mean\n",
        "print(\"Mean value:\", find_mean(nums))"
      ],
      "metadata": {
        "colab": {
          "base_uri": "https://localhost:8080/"
        },
        "id": "5ELO7VDc7bjL",
        "outputId": "2454a6b9-f7c5-4daf-e7a2-bad9fb070209"
      },
      "execution_count": 5,
      "outputs": [
        {
          "output_type": "stream",
          "name": "stdout",
          "text": [
            "Mean value: 31.9\n"
          ]
        }
      ]
    },
    {
      "cell_type": "code",
      "source": [
        "# Function that returns the median value of a list of numbers\n",
        "listt=[5, 6, 11, 12, 18, 34, 56, 78, 69, 30]\n",
        "def median_list(numbers2):\n",
        "  new_list=sorted(numbers2)\n",
        "  mid_value = len(new_list)// 2\n",
        "  if len(new_list) % 2 == 0:\n",
        "    median_value = (new_list[mid_value - 1] + new_list[mid_value]) / 2\n",
        "  else:\n",
        "    median_value = new_list[mid_value]\n",
        "  return median_value\n",
        "print(\"Median value: \",median_list(listt))"
      ],
      "metadata": {
        "colab": {
          "base_uri": "https://localhost:8080/"
        },
        "id": "DCR3A1_-79Hi",
        "outputId": "877f3854-1e7b-4fa3-a438-541c7d020176"
      },
      "execution_count": 8,
      "outputs": [
        {
          "output_type": "stream",
          "name": "stdout",
          "text": [
            "Median value:  24.0\n"
          ]
        }
      ]
    },
    {
      "cell_type": "code",
      "source": [
        "# Mode of list of numbers\n",
        "nums = [5, 6, 11, 12, 18, 34, 56, 78, 69, 30]\n",
        "def find_mode(numbers):\n",
        "    if not numbers:\n",
        "        return None\n",
        "    freq = {}\n",
        "    for num in numbers:\n",
        "        freq[num] = freq.get(num, 0) + 1\n",
        "    max_freq = max(freq.values())\n",
        "    if max_freq == 1:\n",
        "        return None\n",
        "    modes = [num for num, count in freq.items() if count == max_freq]\n",
        "    if len(modes) == 1:\n",
        "        return modes[0]\n",
        "    return modes\n",
        "print(\"Mode values:\", find_mode(nums))\n"
      ],
      "metadata": {
        "colab": {
          "base_uri": "https://localhost:8080/"
        },
        "id": "Eq6sl9dz-ii-",
        "outputId": "c405efde-6132-49dd-e2b9-f419308baa92"
      },
      "execution_count": 13,
      "outputs": [
        {
          "output_type": "stream",
          "name": "stdout",
          "text": [
            "Mode values: None\n"
          ]
        }
      ]
    },
    {
      "cell_type": "code",
      "source": [
        "# Print given Percentile value\n",
        "nums = [5, 6, 11, 12, 18, 34, 56, 78, 69, 30]\n",
        "def percentile_list(data, percent):\n",
        "  datasort = sorted(data)\n",
        "  position = (percent/100) * (len(datasort) - 1)\n",
        "  lower = int(position)\n",
        "  upper = lower + 1\n",
        "  if upper >= len(data):\n",
        "    return datasort[lower]\n",
        "  return datasort[lower] + (datasort[upper] - datasort[lower]) * (position - lower)\n",
        "print(\"Percentile value: \",percentile_list(nums, 34))"
      ],
      "metadata": {
        "colab": {
          "base_uri": "https://localhost:8080/"
        },
        "id": "b89u-fJ__yfD",
        "outputId": "7386bb11-5751-453b-c03d-064de00a4375"
      },
      "execution_count": 16,
      "outputs": [
        {
          "output_type": "stream",
          "name": "stdout",
          "text": [
            "Percentile value:  12.36\n"
          ]
        }
      ]
    },
    {
      "cell_type": "code",
      "source": [
        "# Returns the lower bound of a list\n",
        "nums = [4, 7, 1, 9, 3, 7, 4, 7]\n",
        "def lower_bound(numbers):\n",
        "    if not numbers:\n",
        "        return None\n",
        "    min_val = numbers[0]\n",
        "    for num in numbers:\n",
        "        if num < min_val:\n",
        "            min_val = num\n",
        "    return min_val\n",
        "print(\"Lower Bound:\", lower_bound(nums))"
      ],
      "metadata": {
        "colab": {
          "base_uri": "https://localhost:8080/"
        },
        "id": "qO-nYvnLCAot",
        "outputId": "df6bd76a-b4b1-49b4-b36f-6c6db8e74d7c"
      },
      "execution_count": 17,
      "outputs": [
        {
          "output_type": "stream",
          "name": "stdout",
          "text": [
            "Lower Bound: 1\n"
          ]
        }
      ]
    },
    {
      "cell_type": "code",
      "source": [
        "# Q7: Outliers (using IQR method)\n",
        "def find_outliers(numbers):\n",
        "    if not numbers or len(numbers) < 4:\n",
        "        return None\n",
        "    nums = sorted(numbers)\n",
        "    n = len(nums)\n",
        "    mid = n // 2\n",
        "    if n % 2 == 0:\n",
        "        lower_half = nums[:mid]\n",
        "        upper_half = nums[mid:]\n",
        "    else:\n",
        "        lower_half = nums[:mid]\n",
        "        upper_half = nums[mid+1:]\n",
        "    def median(data):\n",
        "        m = len(data)\n",
        "        i = m // 2\n",
        "        return (data[i-1] + data[i]) / 2 if m % 2 == 0 else data[i]\n",
        "    Q1 = median(lower_half)\n",
        "    Q3 = median(upper_half)\n",
        "    IQR = Q3 - Q1\n",
        "    lower_limit = Q1 - 1.5 * IQR\n",
        "    upper_limit = Q3 + 1.5 * IQR\n",
        "    outliers = [x for x in numbers if x < lower_limit or x > upper_limit]\n",
        "    return outliers or None\n",
        "numbers = list(map(float, input(\"Enter numbers separated by space: \").split()))\n",
        "print(\"Outliers =\", find_outliers(numbers))"
      ],
      "metadata": {
        "colab": {
          "base_uri": "https://localhost:8080/"
        },
        "id": "NVXaCgM2Cndc",
        "outputId": "3b6b01e0-3365-4c86-d1a2-0600d7d901f9"
      },
      "execution_count": 25,
      "outputs": [
        {
          "output_type": "stream",
          "name": "stdout",
          "text": [
            "Enter numbers separated by space: 5 6 7\n",
            "Outliers = None\n"
          ]
        }
      ]
    },
    {
      "cell_type": "code",
      "source": [
        "# Q8: Standard deviation\n",
        "numbers = list(map(float, input(\"Enter numbers separated by space: \").split()))\n",
        "def standard_deviation(numbers):\n",
        "    mean_val = sum(numbers) / len(numbers)\n",
        "    variance = sum((x - mean_val) ** 2 for x in numbers) / len(numbers)\n",
        "    return variance ** 0.5\n",
        "print(\"Standard Deviation =\", standard_deviation(numbers))\n"
      ],
      "metadata": {
        "colab": {
          "base_uri": "https://localhost:8080/"
        },
        "id": "i-PKr9ACEe5B",
        "outputId": "552fe112-73f8-47c5-cc46-c4f7f0f2d27f"
      },
      "execution_count": 24,
      "outputs": [
        {
          "output_type": "stream",
          "name": "stdout",
          "text": [
            "Enter numbers separated by space: 4 5 6\n",
            "Standard Deviation = 0.816496580927726\n"
          ]
        }
      ]
    },
    {
      "cell_type": "code",
      "source": [
        "# Q9: Z-scores\n",
        "def z_scores(numbers):\n",
        "    if not numbers:\n",
        "        return None\n",
        "    mean_val = sum(numbers) / len(numbers)\n",
        "    variance = sum((x - mean_val) ** 2 for x in numbers) / len(numbers)\n",
        "    std_dev = variance ** 0.5\n",
        "    return [(x - mean_val) / std_dev for x in numbers]\n",
        "data = [10, 12, 23, 23, 16, 23, 21, 16]\n",
        "print(\"Z-scores:\", z_scores(data))\n"
      ],
      "metadata": {
        "colab": {
          "base_uri": "https://localhost:8080/"
        },
        "id": "3ot8DzFREmzz",
        "outputId": "84d856af-aab3-4fe7-e3d5-3a3b5307be6f"
      },
      "execution_count": 22,
      "outputs": [
        {
          "output_type": "stream",
          "name": "stdout",
          "text": [
            "Z-scores: [-1.6329931618554523, -1.2247448713915892, 1.0206207261596576, 1.0206207261596576, -0.4082482904638631, 1.0206207261596576, 0.6123724356957946, -0.4082482904638631]\n"
          ]
        }
      ]
    },
    {
      "cell_type": "code",
      "source": [
        "# Q10: Pearson correlation coefficient\n",
        "def pearson_correlation(x_list, y_list):\n",
        "    if len(x_list) != len(y_list):\n",
        "        return None\n",
        "    mean_x = sum(x_list) / len(x_list)\n",
        "    mean_y = sum(y_list) / len(y_list)\n",
        "    numerator = sum((x - mean_x) * (y - mean_y) for x, y in zip(x_list, y_list))\n",
        "    denominator_x = sum((x - mean_x) ** 2 for x in x_list) ** 0.5\n",
        "    denominator_y = sum((y - mean_y) ** 2 for y in y_list) ** 0.5\n",
        "    return numerator / (denominator_x * denominator_y)\n",
        "numbers = list(map(float, input(\"Enter first list of numbers: \").split()))\n",
        "y_numbers = list(map(float, input(\"Enter second list of numbers: \").split()))\n",
        "print(\"Pearson Correlation =\", pearson_correlation(numbers, y_numbers))"
      ],
      "metadata": {
        "colab": {
          "base_uri": "https://localhost:8080/"
        },
        "id": "qCPBOOTbEj8G",
        "outputId": "9b427852-4305-47da-e5f8-953c6d1e59c3"
      },
      "execution_count": 23,
      "outputs": [
        {
          "output_type": "stream",
          "name": "stdout",
          "text": [
            "Enter first list of numbers: 3 4 5 \n",
            "Enter second list of numbers: 5 6 7 \n",
            "Pearson Correlation = 0.9999999999999998\n"
          ]
        }
      ]
    },
    {
      "cell_type": "code",
      "source": [],
      "metadata": {
        "id": "rrxUOwS9GuZp"
      },
      "execution_count": null,
      "outputs": []
    }
  ]
}